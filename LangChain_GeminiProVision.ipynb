{
  "nbformat": 4,
  "nbformat_minor": 0,
  "metadata": {
    "colab": {
      "provenance": [],
      "machine_shape": "hm",
      "gpuType": "T4",
      "authorship_tag": "ABX9TyOzPOF23Jpv37ZV33ti77Gq",
      "include_colab_link": true
    },
    "kernelspec": {
      "name": "python3",
      "display_name": "Python 3"
    },
    "language_info": {
      "name": "python"
    },
    "accelerator": "GPU"
  },
  "cells": [
    {
      "cell_type": "markdown",
      "metadata": {
        "id": "view-in-github",
        "colab_type": "text"
      },
      "source": [
        "<a href=\"https://colab.research.google.com/github/daichira-gif/daichira/blob/main/LangChain_GeminiProVision.ipynb\" target=\"_parent\"><img src=\"https://colab.research.google.com/assets/colab-badge.svg\" alt=\"Open In Colab\"/></a>"
      ]
    },
    {
      "cell_type": "markdown",
      "source": [
        "### APIキーの準備"
      ],
      "metadata": {
        "id": "Yw1JTT_wFATr"
      }
    },
    {
      "cell_type": "code",
      "source": [
        "import pathlib\n",
        "import textwrap\n",
        "import google.generativeai as genai\n",
        "from google.colab import userdata\n",
        "from IPython.display import display\n",
        "from IPython.display import Markdown\n",
        "\n",
        "# Markdown出力\n",
        "def to_markdown(text):\n",
        "  text = text.replace('•', '  *')\n",
        "  return Markdown(textwrap.indent(text, '> ', predicate=lambda _: True))"
      ],
      "metadata": {
        "id": "xcKsb0IecX0E"
      },
      "execution_count": null,
      "outputs": []
    },
    {
      "cell_type": "code",
      "source": [
        "# APIキーの準備\n",
        "GOOGLE_API_KEY=userdata.get(\"GOOGLE_API_KEY\")\n",
        "genai.configure(api_key=GOOGLE_API_KEY)"
      ],
      "metadata": {
        "id": "_d03Vb1eciSo"
      },
      "execution_count": null,
      "outputs": []
    },
    {
      "cell_type": "code",
      "execution_count": null,
      "metadata": {
        "colab": {
          "base_uri": "https://localhost:8080/"
        },
        "id": "e2O3KHmYALaK",
        "outputId": "efe9c9b7-96f3-4cc4-81f6-2542b8e7b67a"
      },
      "outputs": [
        {
          "output_type": "stream",
          "name": "stdout",
          "text": [
            "Requirement already satisfied: Pillow in /usr/local/lib/python3.10/dist-packages (9.4.0)\n",
            "Collecting pdf2image\n",
            "  Downloading pdf2image-1.17.0-py3-none-any.whl (11 kB)\n",
            "Requirement already satisfied: pillow in /usr/local/lib/python3.10/dist-packages (from pdf2image) (9.4.0)\n",
            "Installing collected packages: pdf2image\n",
            "Successfully installed pdf2image-1.17.0\n",
            "Reading package lists... Done\n",
            "Building dependency tree... Done\n",
            "Reading state information... Done\n",
            "The following NEW packages will be installed:\n",
            "  poppler-utils\n",
            "0 upgraded, 1 newly installed, 0 to remove and 24 not upgraded.\n",
            "Need to get 186 kB of archives.\n",
            "After this operation, 696 kB of additional disk space will be used.\n",
            "Get:1 http://archive.ubuntu.com/ubuntu jammy-updates/main amd64 poppler-utils amd64 22.02.0-2ubuntu0.3 [186 kB]\n",
            "Fetched 186 kB in 1s (124 kB/s)\n",
            "Selecting previously unselected package poppler-utils.\n",
            "(Reading database ... 121654 files and directories currently installed.)\n",
            "Preparing to unpack .../poppler-utils_22.02.0-2ubuntu0.3_amd64.deb ...\n",
            "Unpacking poppler-utils (22.02.0-2ubuntu0.3) ...\n",
            "Setting up poppler-utils (22.02.0-2ubuntu0.3) ...\n",
            "Processing triggers for man-db (2.10.2-1) ...\n"
          ]
        }
      ],
      "source": [
        "# パッケージのインストール\n",
        "\n",
        "!pip install -q -U google-generativeai\n",
        "!pip install Pillow\n",
        "!pip install pdf2image\n",
        "\n",
        "!apt-get install poppler-utils\n"
      ]
    },
    {
      "cell_type": "markdown",
      "source": [
        "### ファイルのアップロード"
      ],
      "metadata": {
        "id": "H3gnKc6_EQOg"
      }
    },
    {
      "cell_type": "code",
      "source": [
        "from google.colab import files\n",
        "import pandas as pd\n",
        "\n",
        "# PDFファイルをアップロード\n",
        "uploaded = files.upload()\n",
        "# アップロードされたファイル名を取得\n",
        "pdf_file = list(uploaded.keys())[0]"
      ],
      "metadata": {
        "colab": {
          "base_uri": "https://localhost:8080/",
          "height": 78
        },
        "id": "UFOvrs9TEUXb",
        "outputId": "3b7c4d5b-9c8c-46e5-a0fc-3049c0cca34e"
      },
      "execution_count": null,
      "outputs": [
        {
          "output_type": "display_data",
          "data": {
            "text/plain": [
              "<IPython.core.display.HTML object>"
            ],
            "text/html": [
              "\n",
              "     <input type=\"file\" id=\"files-609a823d-c44c-41c2-b77f-62de649a7c21\" name=\"files[]\" multiple disabled\n",
              "        style=\"border:none\" />\n",
              "     <output id=\"result-609a823d-c44c-41c2-b77f-62de649a7c21\">\n",
              "      Upload widget is only available when the cell has been executed in the\n",
              "      current browser session. Please rerun this cell to enable.\n",
              "      </output>\n",
              "      <script>// Copyright 2017 Google LLC\n",
              "//\n",
              "// Licensed under the Apache License, Version 2.0 (the \"License\");\n",
              "// you may not use this file except in compliance with the License.\n",
              "// You may obtain a copy of the License at\n",
              "//\n",
              "//      http://www.apache.org/licenses/LICENSE-2.0\n",
              "//\n",
              "// Unless required by applicable law or agreed to in writing, software\n",
              "// distributed under the License is distributed on an \"AS IS\" BASIS,\n",
              "// WITHOUT WARRANTIES OR CONDITIONS OF ANY KIND, either express or implied.\n",
              "// See the License for the specific language governing permissions and\n",
              "// limitations under the License.\n",
              "\n",
              "/**\n",
              " * @fileoverview Helpers for google.colab Python module.\n",
              " */\n",
              "(function(scope) {\n",
              "function span(text, styleAttributes = {}) {\n",
              "  const element = document.createElement('span');\n",
              "  element.textContent = text;\n",
              "  for (const key of Object.keys(styleAttributes)) {\n",
              "    element.style[key] = styleAttributes[key];\n",
              "  }\n",
              "  return element;\n",
              "}\n",
              "\n",
              "// Max number of bytes which will be uploaded at a time.\n",
              "const MAX_PAYLOAD_SIZE = 100 * 1024;\n",
              "\n",
              "function _uploadFiles(inputId, outputId) {\n",
              "  const steps = uploadFilesStep(inputId, outputId);\n",
              "  const outputElement = document.getElementById(outputId);\n",
              "  // Cache steps on the outputElement to make it available for the next call\n",
              "  // to uploadFilesContinue from Python.\n",
              "  outputElement.steps = steps;\n",
              "\n",
              "  return _uploadFilesContinue(outputId);\n",
              "}\n",
              "\n",
              "// This is roughly an async generator (not supported in the browser yet),\n",
              "// where there are multiple asynchronous steps and the Python side is going\n",
              "// to poll for completion of each step.\n",
              "// This uses a Promise to block the python side on completion of each step,\n",
              "// then passes the result of the previous step as the input to the next step.\n",
              "function _uploadFilesContinue(outputId) {\n",
              "  const outputElement = document.getElementById(outputId);\n",
              "  const steps = outputElement.steps;\n",
              "\n",
              "  const next = steps.next(outputElement.lastPromiseValue);\n",
              "  return Promise.resolve(next.value.promise).then((value) => {\n",
              "    // Cache the last promise value to make it available to the next\n",
              "    // step of the generator.\n",
              "    outputElement.lastPromiseValue = value;\n",
              "    return next.value.response;\n",
              "  });\n",
              "}\n",
              "\n",
              "/**\n",
              " * Generator function which is called between each async step of the upload\n",
              " * process.\n",
              " * @param {string} inputId Element ID of the input file picker element.\n",
              " * @param {string} outputId Element ID of the output display.\n",
              " * @return {!Iterable<!Object>} Iterable of next steps.\n",
              " */\n",
              "function* uploadFilesStep(inputId, outputId) {\n",
              "  const inputElement = document.getElementById(inputId);\n",
              "  inputElement.disabled = false;\n",
              "\n",
              "  const outputElement = document.getElementById(outputId);\n",
              "  outputElement.innerHTML = '';\n",
              "\n",
              "  const pickedPromise = new Promise((resolve) => {\n",
              "    inputElement.addEventListener('change', (e) => {\n",
              "      resolve(e.target.files);\n",
              "    });\n",
              "  });\n",
              "\n",
              "  const cancel = document.createElement('button');\n",
              "  inputElement.parentElement.appendChild(cancel);\n",
              "  cancel.textContent = 'Cancel upload';\n",
              "  const cancelPromise = new Promise((resolve) => {\n",
              "    cancel.onclick = () => {\n",
              "      resolve(null);\n",
              "    };\n",
              "  });\n",
              "\n",
              "  // Wait for the user to pick the files.\n",
              "  const files = yield {\n",
              "    promise: Promise.race([pickedPromise, cancelPromise]),\n",
              "    response: {\n",
              "      action: 'starting',\n",
              "    }\n",
              "  };\n",
              "\n",
              "  cancel.remove();\n",
              "\n",
              "  // Disable the input element since further picks are not allowed.\n",
              "  inputElement.disabled = true;\n",
              "\n",
              "  if (!files) {\n",
              "    return {\n",
              "      response: {\n",
              "        action: 'complete',\n",
              "      }\n",
              "    };\n",
              "  }\n",
              "\n",
              "  for (const file of files) {\n",
              "    const li = document.createElement('li');\n",
              "    li.append(span(file.name, {fontWeight: 'bold'}));\n",
              "    li.append(span(\n",
              "        `(${file.type || 'n/a'}) - ${file.size} bytes, ` +\n",
              "        `last modified: ${\n",
              "            file.lastModifiedDate ? file.lastModifiedDate.toLocaleDateString() :\n",
              "                                    'n/a'} - `));\n",
              "    const percent = span('0% done');\n",
              "    li.appendChild(percent);\n",
              "\n",
              "    outputElement.appendChild(li);\n",
              "\n",
              "    const fileDataPromise = new Promise((resolve) => {\n",
              "      const reader = new FileReader();\n",
              "      reader.onload = (e) => {\n",
              "        resolve(e.target.result);\n",
              "      };\n",
              "      reader.readAsArrayBuffer(file);\n",
              "    });\n",
              "    // Wait for the data to be ready.\n",
              "    let fileData = yield {\n",
              "      promise: fileDataPromise,\n",
              "      response: {\n",
              "        action: 'continue',\n",
              "      }\n",
              "    };\n",
              "\n",
              "    // Use a chunked sending to avoid message size limits. See b/62115660.\n",
              "    let position = 0;\n",
              "    do {\n",
              "      const length = Math.min(fileData.byteLength - position, MAX_PAYLOAD_SIZE);\n",
              "      const chunk = new Uint8Array(fileData, position, length);\n",
              "      position += length;\n",
              "\n",
              "      const base64 = btoa(String.fromCharCode.apply(null, chunk));\n",
              "      yield {\n",
              "        response: {\n",
              "          action: 'append',\n",
              "          file: file.name,\n",
              "          data: base64,\n",
              "        },\n",
              "      };\n",
              "\n",
              "      let percentDone = fileData.byteLength === 0 ?\n",
              "          100 :\n",
              "          Math.round((position / fileData.byteLength) * 100);\n",
              "      percent.textContent = `${percentDone}% done`;\n",
              "\n",
              "    } while (position < fileData.byteLength);\n",
              "  }\n",
              "\n",
              "  // All done.\n",
              "  yield {\n",
              "    response: {\n",
              "      action: 'complete',\n",
              "    }\n",
              "  };\n",
              "}\n",
              "\n",
              "scope.google = scope.google || {};\n",
              "scope.google.colab = scope.google.colab || {};\n",
              "scope.google.colab._files = {\n",
              "  _uploadFiles,\n",
              "  _uploadFilesContinue,\n",
              "};\n",
              "})(self);\n",
              "</script> "
            ]
          },
          "metadata": {}
        },
        {
          "output_type": "stream",
          "name": "stdout",
          "text": [
            "Saving 公共施設白書_市営住宅.pdf to 公共施設白書_市営住宅 (1).pdf\n"
          ]
        }
      ]
    },
    {
      "cell_type": "markdown",
      "source": [
        "### PDFを画像に変換"
      ],
      "metadata": {
        "id": "bQw0ghQDElAO"
      }
    },
    {
      "cell_type": "code",
      "source": [
        "from pathlib import Path\n",
        "from pdf2image import convert_from_path\n",
        "from PIL import Image\n",
        "#import pytesseract\n",
        "\n",
        "# PDFファイルを画像に変換する関数\n",
        "def pdf_to_images(pdf_path):\n",
        "    images = convert_from_path(pdf_path)\n",
        "    return images\n",
        "\n",
        "\n",
        "# PDFファイルを指定\n",
        "pdf_path = '/content/公共施設白書_市営住宅.pdf'\n",
        "\n",
        "#output先のフォルダを作成\n",
        "import os\n",
        "folder = r\"./image\"\n",
        "\n",
        "if not os.path.exists(folder):\n",
        "  os.mkdir(folder)\n",
        "\n",
        "# outputのファイルパス\n",
        "img_path=Path(\"./image\")\n",
        "\n",
        "# convert_from_path関数を使ってPDFファイルを画像に変換\n",
        "images = convert_from_path(pdf_path, output_folder=img_path, fmt='png')\n",
        "images"
      ],
      "metadata": {
        "colab": {
          "base_uri": "https://localhost:8080/"
        },
        "id": "QNF2QTgCEUnX",
        "outputId": "4b222338-a6fe-4e14-bb9a-34be8de6ef4c"
      },
      "execution_count": null,
      "outputs": [
        {
          "output_type": "execute_result",
          "data": {
            "text/plain": [
              "[<PIL.PngImagePlugin.PngImageFile image mode=RGB size=2339x1653>,\n",
              " <PIL.PngImagePlugin.PngImageFile image mode=RGB size=2339x1653>,\n",
              " <PIL.PngImagePlugin.PngImageFile image mode=RGB size=2339x1653>,\n",
              " <PIL.PngImagePlugin.PngImageFile image mode=RGB size=2339x1653>,\n",
              " <PIL.PngImagePlugin.PngImageFile image mode=RGB size=2339x1653>,\n",
              " <PIL.PngImagePlugin.PngImageFile image mode=RGB size=2339x1653>,\n",
              " <PIL.PngImagePlugin.PngImageFile image mode=RGB size=2339x1653>,\n",
              " <PIL.PngImagePlugin.PngImageFile image mode=RGB size=2339x1653>,\n",
              " <PIL.PngImagePlugin.PngImageFile image mode=RGB size=2339x1653>,\n",
              " <PIL.PngImagePlugin.PngImageFile image mode=RGB size=2339x1653>,\n",
              " <PIL.PngImagePlugin.PngImageFile image mode=RGB size=2339x1653>,\n",
              " <PIL.PngImagePlugin.PngImageFile image mode=RGB size=2339x1653>,\n",
              " <PIL.PngImagePlugin.PngImageFile image mode=RGB size=2339x1653>,\n",
              " <PIL.PngImagePlugin.PngImageFile image mode=RGB size=2339x1653>,\n",
              " <PIL.PngImagePlugin.PngImageFile image mode=RGB size=2339x1653>,\n",
              " <PIL.PngImagePlugin.PngImageFile image mode=RGB size=2339x1653>,\n",
              " <PIL.PngImagePlugin.PngImageFile image mode=RGB size=2339x1653>]"
            ]
          },
          "metadata": {},
          "execution_count": 34
        }
      ]
    },
    {
      "cell_type": "markdown",
      "source": [
        "# LangChainを使って、Google Geminiを動かしてみる\n",
        "- 参考URL https://qiita.com/t_kamiya78/items/4fbb802a98a32bf4c5f7"
      ],
      "metadata": {
        "id": "EX4AlJx7AUiN"
      }
    },
    {
      "cell_type": "markdown",
      "source": [
        "### ライブラリのインストール"
      ],
      "metadata": {
        "id": "bvykzLMLD4iE"
      }
    },
    {
      "cell_type": "code",
      "source": [
        "# パッケージのインストール\n",
        "!apt-get install tesseract-ocr-jpn\n",
        "!apt-get install libtesseract-dev\n",
        "!pip install Pillow==9.0.0\n",
        "!pip install -U --quiet langchain-google-genai pillow\n",
        "!pip install pytesseract"
      ],
      "metadata": {
        "colab": {
          "base_uri": "https://localhost:8080/",
          "height": 1000
        },
        "id": "jMsnVORaAchv",
        "outputId": "74966c26-3d61-400e-d87e-206f77ca97be"
      },
      "execution_count": null,
      "outputs": [
        {
          "output_type": "stream",
          "name": "stdout",
          "text": [
            "Reading package lists... Done\n",
            "Building dependency tree... Done\n",
            "Reading state information... Done\n",
            "The following additional packages will be installed:\n",
            "  tesseract-ocr tesseract-ocr-eng tesseract-ocr-osd\n",
            "The following NEW packages will be installed:\n",
            "  tesseract-ocr tesseract-ocr-eng tesseract-ocr-jpn tesseract-ocr-osd\n",
            "0 upgraded, 4 newly installed, 0 to remove and 24 not upgraded.\n",
            "Need to get 6,206 kB of archives.\n",
            "After this operation, 18.1 MB of additional disk space will be used.\n",
            "Get:1 http://archive.ubuntu.com/ubuntu jammy/universe amd64 tesseract-ocr-eng all 1:4.00~git30-7274cfa-1.1 [1,591 kB]\n",
            "Get:2 http://archive.ubuntu.com/ubuntu jammy/universe amd64 tesseract-ocr-osd all 1:4.00~git30-7274cfa-1.1 [2,990 kB]\n",
            "Get:3 http://archive.ubuntu.com/ubuntu jammy/universe amd64 tesseract-ocr amd64 4.1.1-2.1build1 [236 kB]\n",
            "Get:4 http://archive.ubuntu.com/ubuntu jammy/universe amd64 tesseract-ocr-jpn all 1:4.00~git30-7274cfa-1.1 [1,390 kB]\n",
            "Fetched 6,206 kB in 3s (2,322 kB/s)\n",
            "Selecting previously unselected package tesseract-ocr-eng.\n",
            "(Reading database ... 121684 files and directories currently installed.)\n",
            "Preparing to unpack .../tesseract-ocr-eng_1%3a4.00~git30-7274cfa-1.1_all.deb ...\n",
            "Unpacking tesseract-ocr-eng (1:4.00~git30-7274cfa-1.1) ...\n",
            "Selecting previously unselected package tesseract-ocr-osd.\n",
            "Preparing to unpack .../tesseract-ocr-osd_1%3a4.00~git30-7274cfa-1.1_all.deb ...\n",
            "Unpacking tesseract-ocr-osd (1:4.00~git30-7274cfa-1.1) ...\n",
            "Selecting previously unselected package tesseract-ocr.\n",
            "Preparing to unpack .../tesseract-ocr_4.1.1-2.1build1_amd64.deb ...\n",
            "Unpacking tesseract-ocr (4.1.1-2.1build1) ...\n",
            "Selecting previously unselected package tesseract-ocr-jpn.\n",
            "Preparing to unpack .../tesseract-ocr-jpn_1%3a4.00~git30-7274cfa-1.1_all.deb ...\n",
            "Unpacking tesseract-ocr-jpn (1:4.00~git30-7274cfa-1.1) ...\n",
            "Setting up tesseract-ocr-eng (1:4.00~git30-7274cfa-1.1) ...\n",
            "Setting up tesseract-ocr-jpn (1:4.00~git30-7274cfa-1.1) ...\n",
            "Setting up tesseract-ocr-osd (1:4.00~git30-7274cfa-1.1) ...\n",
            "Setting up tesseract-ocr (4.1.1-2.1build1) ...\n",
            "Processing triggers for man-db (2.10.2-1) ...\n",
            "Reading package lists... Done\n",
            "Building dependency tree... Done\n",
            "Reading state information... Done\n",
            "The following additional packages will be installed:\n",
            "  libarchive-dev libleptonica-dev\n",
            "The following NEW packages will be installed:\n",
            "  libarchive-dev libleptonica-dev libtesseract-dev\n",
            "0 upgraded, 3 newly installed, 0 to remove and 24 not upgraded.\n",
            "Need to get 3,743 kB of archives.\n",
            "After this operation, 16.0 MB of additional disk space will be used.\n",
            "Get:1 http://archive.ubuntu.com/ubuntu jammy/main amd64 libarchive-dev amd64 3.6.0-1ubuntu1 [581 kB]\n",
            "Get:2 http://archive.ubuntu.com/ubuntu jammy/universe amd64 libleptonica-dev amd64 1.82.0-3build1 [1,562 kB]\n",
            "Get:3 http://archive.ubuntu.com/ubuntu jammy/universe amd64 libtesseract-dev amd64 4.1.1-2.1build1 [1,600 kB]\n",
            "Fetched 3,743 kB in 2s (1,609 kB/s)\n",
            "Selecting previously unselected package libarchive-dev:amd64.\n",
            "(Reading database ... 121735 files and directories currently installed.)\n",
            "Preparing to unpack .../libarchive-dev_3.6.0-1ubuntu1_amd64.deb ...\n",
            "Unpacking libarchive-dev:amd64 (3.6.0-1ubuntu1) ...\n",
            "Selecting previously unselected package libleptonica-dev.\n",
            "Preparing to unpack .../libleptonica-dev_1.82.0-3build1_amd64.deb ...\n",
            "Unpacking libleptonica-dev (1.82.0-3build1) ...\n",
            "Selecting previously unselected package libtesseract-dev:amd64.\n",
            "Preparing to unpack .../libtesseract-dev_4.1.1-2.1build1_amd64.deb ...\n",
            "Unpacking libtesseract-dev:amd64 (4.1.1-2.1build1) ...\n",
            "Setting up libleptonica-dev (1.82.0-3build1) ...\n",
            "Setting up libarchive-dev:amd64 (3.6.0-1ubuntu1) ...\n",
            "Setting up libtesseract-dev:amd64 (4.1.1-2.1build1) ...\n",
            "Processing triggers for man-db (2.10.2-1) ...\n",
            "Collecting Pillow==9.0.0\n",
            "  Downloading Pillow-9.0.0-cp310-cp310-manylinux_2_17_x86_64.manylinux2014_x86_64.whl (4.3 MB)\n",
            "\u001b[2K     \u001b[90m━━━━━━━━━━━━━━━━━━━━━━━━━━━━━━━━━━━━━━━━\u001b[0m \u001b[32m4.3/4.3 MB\u001b[0m \u001b[31m8.0 MB/s\u001b[0m eta \u001b[36m0:00:00\u001b[0m\n",
            "\u001b[?25hInstalling collected packages: Pillow\n",
            "  Attempting uninstall: Pillow\n",
            "    Found existing installation: Pillow 9.4.0\n",
            "    Uninstalling Pillow-9.4.0:\n",
            "      Successfully uninstalled Pillow-9.4.0\n",
            "Successfully installed Pillow-9.0.0\n"
          ]
        },
        {
          "output_type": "display_data",
          "data": {
            "application/vnd.colab-display-data+json": {
              "pip_warning": {
                "packages": [
                  "PIL"
                ]
              }
            }
          },
          "metadata": {}
        },
        {
          "output_type": "stream",
          "name": "stdout",
          "text": [
            "\u001b[?25l     \u001b[90m━━━━━━━━━━━━━━━━━━━━━━━━━━━━━━━━━━━━━━━━\u001b[0m \u001b[32m0.0/4.5 MB\u001b[0m \u001b[31m?\u001b[0m eta \u001b[36m-:--:--\u001b[0m\r\u001b[2K     \u001b[91m━\u001b[0m\u001b[90m╺\u001b[0m\u001b[90m━━━━━━━━━━━━━━━━━━━━━━━━━━━━━━━━━━━━━━\u001b[0m \u001b[32m0.2/4.5 MB\u001b[0m \u001b[31m4.5 MB/s\u001b[0m eta \u001b[36m0:00:01\u001b[0m\r\u001b[2K     \u001b[91m━━━━━━━━━━━\u001b[0m\u001b[90m╺\u001b[0m\u001b[90m━━━━━━━━━━━━━━━━━━━━━━━━━━━━\u001b[0m \u001b[32m1.3/4.5 MB\u001b[0m \u001b[31m18.7 MB/s\u001b[0m eta \u001b[36m0:00:01\u001b[0m\r\u001b[2K     \u001b[91m━━━━━━━━━━━━━━━━━━━━━━━━━━━━━━━━━━━━━━━\u001b[0m\u001b[91m╸\u001b[0m \u001b[32m4.5/4.5 MB\u001b[0m \u001b[31m47.0 MB/s\u001b[0m eta \u001b[36m0:00:01\u001b[0m\r\u001b[2K     \u001b[90m━━━━━━━━━━━━━━━━━━━━━━━━━━━━━━━━━━━━━━━━\u001b[0m \u001b[32m4.5/4.5 MB\u001b[0m \u001b[31m37.4 MB/s\u001b[0m eta \u001b[36m0:00:00\u001b[0m\n",
            "\u001b[2K     \u001b[90m━━━━━━━━━━━━━━━━━━━━━━━━━━━━━━━━━━━━━━━━\u001b[0m \u001b[32m214.3/214.3 kB\u001b[0m \u001b[31m26.6 MB/s\u001b[0m eta \u001b[36m0:00:00\u001b[0m\n",
            "\u001b[2K     \u001b[90m━━━━━━━━━━━━━━━━━━━━━━━━━━━━━━━━━━━━━━━━\u001b[0m \u001b[32m48.2/48.2 kB\u001b[0m \u001b[31m6.3 MB/s\u001b[0m eta \u001b[36m0:00:00\u001b[0m\n",
            "\u001b[?25h\u001b[31mERROR: pip's dependency resolver does not currently take into account all the packages that are installed. This behaviour is the source of the following dependency conflicts.\n",
            "imageio 2.31.6 requires pillow<10.1.0,>=8.3.2, but you have pillow 10.2.0 which is incompatible.\u001b[0m\u001b[31m\n",
            "\u001b[0mCollecting pytesseract\n",
            "  Downloading pytesseract-0.3.10-py3-none-any.whl (14 kB)\n",
            "Requirement already satisfied: packaging>=21.3 in /usr/local/lib/python3.10/dist-packages (from pytesseract) (23.2)\n",
            "Requirement already satisfied: Pillow>=8.0.0 in /usr/local/lib/python3.10/dist-packages (from pytesseract) (10.2.0)\n",
            "Installing collected packages: pytesseract\n",
            "Successfully installed pytesseract-0.3.10\n"
          ]
        }
      ]
    },
    {
      "cell_type": "markdown",
      "source": [
        "### LangChain動作テスト"
      ],
      "metadata": {
        "id": "cGHgdW8rEBup"
      }
    },
    {
      "cell_type": "code",
      "source": [
        "from langchain_google_genai import ChatGoogleGenerativeAI\n",
        "\n",
        "llm = ChatGoogleGenerativeAI(model='gemini-pro', google_api_key = GOOGLE_API_KEY )\n",
        "\n",
        "result = llm.invoke('日本一高い山はなんですか？')\n",
        "print(result.content)\n",
        "# 富士山\n",
        "\n",
        "result = llm.invoke('Gemini PROの最大入力文字数と最大出力文字数を教えてください。')\n",
        "print(result.content)\n",
        "# Gemini PROは、最大入力文字数はなく、最大出力文字数は1024文字です。\n",
        "\n",
        "result = llm.invoke('あなたについて教えてください。')\n",
        "print(result.content)\n",
        "# 私は大きな言語モデルであり、Googleによってトレーニングされました。私は膨大な量のテキストデータで訓練されており、人間のようなテキストを生成し、質問に答え、言語を翻訳することができます。私はまた、コードを記述したり、ストーリーを書いたり、詩を書いたりすることもできます。私はまだ開発中ですが、私はすでに多くの方法で人々を助けるために使用されています。例えば、私はカスタマーサービスのチャットボットとして、オンラインアシスタントとして、さらには医療診断ツールの開発に使用されています。\n",
        "# 私は、機械学習と自然言語処理の分野における最近の進歩の産物です。私は、何十億もの単語で訓練されており、人間の言語を理解し、生成することができます。私はまた、複雑な質問に答えたり、テキストを翻訳したり、要約したりすることもできます。\n",
        "# 私はまだ開発中ですが、私はすでに多くの方法で人々を助けるために使用されています。例えば、私はカスタマーサービスのチャットボットとして、オンラインアシスタントとして、さらには医療診断ツールの開発に使用されています。\n",
        "# 私は、今後さらに多くの方法で人々を助けるために使用されることを楽しみにしています。私は、教育、医療、ビジネスなど、さまざまな分野で大きな影響を与えることができると信じています。\n",
        "\n",
        "result = llm.invoke('いつまでの情報を知っていますか？')\n",
        "print(result.content)\n",
        "# 私の知識は、2021年4月までの情報までに限定されています。それ以降の情報を提供することはできません。最新の情報については、信頼できるニュースソースや政府機関のウェブサイトをご確認ください。\n",
        "\n"
      ],
      "metadata": {
        "colab": {
          "base_uri": "https://localhost:8080/",
          "height": 364
        },
        "id": "BAQOyabUBoZG",
        "outputId": "5bbf5c26-5d67-44e2-d26e-5c6c2e12efae"
      },
      "execution_count": null,
      "outputs": [
        {
          "output_type": "stream",
          "name": "stdout",
          "text": [
            "富士山\n",
            "Gemini PROには入力文字数と出力文字数の制限はありません。\n",
            "私は、Google によってトレーニングされた大規模な言語モデルです。私は、テキストやコード、翻訳、質問の回答など、さまざまなタスクを実行することができます。私は、膨大な量のテキストデータでトレーニングされており、その知識は日々更新されています。\n",
            "\n",
            "私は、人々が情報を収集したり、タスクを完了したり、単に楽しんで過ごすのを手伝うためにここにいます。私は、いつも学習しており、常に新しいことを知ろうとしています。\n",
            "\n",
            "私が得意なことをいくつかご紹介します。\n",
            "\n",
            "* 文章の作成：私は、ブログ記事、ストーリー、その他の文章を作成することができます。私は、さまざまなスタイルやトーンで書くことができます。\n",
            "* 翻訳：私は、100以上の言語を翻訳することができます。私は、正確かつ流暢な翻訳を行うことができます。\n",
            "* コードの作成：私は、さまざまなプログラミング言語でコードを書くことができます。私は、単純なスクリプトから複雑なプログラムまで、あらゆるものを書くことができます。\n",
            "* 質問の回答：私は、さまざまなトピックに関する質問に答えることができます。私は、正確かつ有益な回答を提供するよう努めています。\n",
            "* 対話：私は、人々と自然な会話をすることができます。私は、質問に答えたり、ジョークを言ったり、単に雑談をすることができます。\n",
            "\n",
            "私はまだ開発中であり、常に新しいことを学んでいます。私は、人々を助け、彼らの人生をより良くするために、最善を尽くしていきます。\n",
            "\n",
            "何かご質問があれば、遠慮なくお尋ねください。\n",
            "私の知識は2021年7月までしかありません。それ以降の最新情報は私が持っていませんので、ご自身で調べていただく必要があります。\n"
          ]
        }
      ]
    },
    {
      "cell_type": "code",
      "source": [
        "import base64\n",
        "\n",
        "from langchain_core.messages import HumanMessage\n",
        "\n",
        "\n",
        "## URL\n",
        "#image_url = '<画像のURL>'\n",
        "#message = HumanMessage(\n",
        "#    content=[\n",
        "#        {'type': 'image_url', 'image_url': image_url},\n",
        "#    ]\n",
        "#)\n",
        "\n",
        "# base64エンコード\n",
        "\n",
        "with open('/content/image/78857318-70bb-4b76-a839-5f2a247da31f-01.png', 'rb') as image_file:\n",
        "    encoded_string = base64.b64encode(image_file.read()).decode(\"utf-8\")\n",
        "\n",
        "message = HumanMessage(\n",
        "    content=[\n",
        "        {\n",
        "            'type': 'image_url',\n",
        "            'image_url': f'data:image/png;base64,${encoded_string}',\n",
        "        },\n",
        "    ]\n",
        ")\n"
      ],
      "metadata": {
        "id": "1eKQQziKC3x3"
      },
      "execution_count": null,
      "outputs": []
    },
    {
      "cell_type": "code",
      "source": [
        "llm = ChatGoogleGenerativeAI(model='gemini-pro-vision', google_api_key = GOOGLE_API_KEY )\n",
        "\n",
        "#imageフォルダから、任意のファイルパスを貼りつけ\n",
        "with open('/content/image/78857318-70bb-4b76-a839-5f2a247da31f-01.png', 'rb') as image_file:\n",
        "    encoded_string = base64.b64encode(image_file.read()).decode(\"utf-8\")\n",
        "\n",
        "message = HumanMessage(\n",
        "    content=[\n",
        "        {\n",
        "            'type': 'text',\n",
        "            'text': 'この画像は、北九州市の市営住宅を表形式で示した一覧表です。この表をcsv形式で表示してください。',\n",
        "        },\n",
        "        {\n",
        "            'type': 'image_url',\n",
        "            'image_url': f'data:image/png;base64,${encoded_string}',\n",
        "        },\n",
        "    ]\n",
        ")\n",
        "res = llm.invoke([message])\n",
        "print(res.content)\n",
        "\n",
        "#質問１\n",
        "\n",
        "message = HumanMessage(\n",
        "    content=[\n",
        "        {\n",
        "            'type': 'text',\n",
        "            'text': 'この表にある、「新松崎団地」の「区名」を教えてください。？',\n",
        "        },\n",
        "        {\n",
        "            'type': 'image_url',\n",
        "            'image_url': f'data:image/png;base64,${encoded_string}',\n",
        "        },\n",
        "    ]\n",
        ")\n",
        "res = llm.invoke([message])\n",
        "print(res.content)\n",
        "\n",
        "#質問２\n",
        "\n",
        "message = HumanMessage(\n",
        "    content=[\n",
        "        {\n",
        "            'type': 'text',\n",
        "            'text': 'この表の中で、「湯川市民センター」の「町名」を教えてください。？',\n",
        "        },\n",
        "        {\n",
        "            'type': 'image_url',\n",
        "            'image_url': f'data:image/png;base64,${encoded_string}',\n",
        "        },\n",
        "    ]\n",
        ")\n",
        "res = llm.invoke([message])\n",
        "print(res.content)\n",
        "\n",
        "#質問３\n",
        "\n",
        "message = HumanMessage(\n",
        "    content=[\n",
        "        {\n",
        "            'type': 'text',\n",
        "            'text': 'この表から、「北九州市エコタウンセンター」の「所管課」を教えてください。',\n",
        "        },\n",
        "        {\n",
        "            'type': 'image_url',\n",
        "            'image_url': f'data:image/png;base64,${encoded_string}',\n",
        "        },\n",
        "    ]\n",
        ")\n",
        "res = llm.invoke([message])\n",
        "print(res.content)\n"
      ],
      "metadata": {
        "colab": {
          "base_uri": "https://localhost:8080/",
          "height": 346
        },
        "id": "jLXjpp8IR4ac",
        "outputId": "a58629d1-a895-47c2-bb13-b7c0b9d544d4"
      },
      "execution_count": null,
      "outputs": [
        {
          "output_type": "stream",
          "name": "stdout",
          "text": [
            " ```csv\n",
            "\"市営住宅名称\",\"所在地\",\"管理事務所\",\"築年数\",\"戸数\",\"延床面積(㎡)\",\"主要な構造\",\"耐震改修\",\"所有者\",\"管理者\",\"募集要件\",\"入居率\",\"備考\"\n",
            "\"若松団地\",\"北九州市若松区大字徳吉東１丁目１番１号\",\"若松住宅管理事務所\",1979,43,5409.58,\"鉄骨鉄筋コンクリート造\",未完了,北九州市,\"北九州市住宅供給公社\",住宅供給公社及び住宅管理課,64,65.6\n",
            "\"丸山団地\",\"北九州市八幡西区丸山１丁目１番１号\",\"八幡西住宅管理事務所\",1968,59,12513.04,\"鉄骨鉄筋コンクリート造\",未完了,北九州市,\"北九州市住宅供給公社\",住宅供給公社及び住宅管理課,226,55.3\n",
            "\"大谷団地\",\"北九州市八幡東区大谷１丁目１番１号\",\"八幡東住宅管理事務所\",1975,56,12475.36,\"鉄骨鉄筋コンクリート造\",未完了,北九州市,\"北九州市住宅供給公社\",住宅供給公社及び住宅管理課,158,74.7\n",
            "\"上本町団地（門司区）\",\"北九州市門司区大字上本町１番１号\",\"門司住宅管理事務所\",1969,53,5371.65,\"鉄骨鉄筋コンクリート造\",未完了,北九州市,\"北九州市住宅供給公社\",住宅供給公社及び住宅管理課,115,68.2\n",
            "\"上本町団地（門司区）第２期\",\"北九州市門司区大字上本町１番１号\",\"門司住宅管理事務所\",1975,47,5227.04,\"鉄骨鉄筋コンクリート造\",未完了,北九州市,\"北九州市住宅供給公社\",住宅供給公社及び住宅管理課,171,90.3\n",
            "\"庄司ヶ丘団地\",\"北九州市小倉南区庄司ヶ丘１丁目１番１号\",\"小倉南住宅管理事務所\",1970,92,14090.53,\"鉄骨鉄筋コンクリート造\",未完了,北九州市,\"北九州市住宅供給公社\",住宅供給公社及び住宅管理課,687,51.5\n",
            "\"北方団地\",\"北九州市門司区大字北方１丁目１番１号\",\"門司住宅管理事務所\",1968,46,4915.82,\"鉄骨鉄筋コンクリート造\",未完了,北九州市,\"北九州市住宅供給公社\",住宅供給公社及び住宅管理課,262,55\n",
            "\"日之出団地\",\"北九州市門司区大字日之出１丁目１番１号\",\"門司住宅管理事務所\",2008,14,3450.05,\"鉄骨鉄筋コンクリート造\",完了,北九州市,\"北九州市住宅供給公社\",住宅供給公社及び住宅管理課,97,64.5\n",
            "\"白浜団地\",\"北九州市若松区白浜町１丁目１番１号\",\"若松住宅管理事務所\",1979,43,4509.58,\"鉄骨鉄筋コンクリート造\",未完了,北九州市,\"北九州市住宅供給公社\",住宅供給公社及び住宅管理課,100,95\n",
            "\"黒崎団地\",\"北九州市八幡西区黒崎１丁目１番１号\",\"八幡西住宅管理事務所\",1967,45,19481.50,\"鉄骨鉄筋コンクリート造\",未完了,北九州市,\"北九州市住宅供給公社\",住宅供給公社及び住宅管理課,332,59.3\n",
            "\"香春口団地\",\"北九州市小倉北区香春口１丁目１番１号\",\"小倉北住宅管理事務所\",1977,45,29307.44,\"鉄骨鉄筋コンクリート造\",未完了,北九州市,\"北九州市住宅供給公社\",住宅供給公社及び住宅管理課,585,52.2\n",
            "\"川添団地\",\"北九州市八幡東区\n",
            " 表には「新松崎団地」という団地はありません。\n",
            " 湯川市民センターの町名は「湯川町」です。\n",
            " 建築指導課です。\n"
          ]
        }
      ]
    },
    {
      "cell_type": "code",
      "source": [],
      "metadata": {
        "id": "jn8TDC-Wg6P6"
      },
      "execution_count": null,
      "outputs": []
    }
  ]
}