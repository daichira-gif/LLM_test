{
  "cells": [
    {
      "cell_type": "markdown",
      "source": [
        "## コーパスの名前、電話番号、メールアドレスをマスキングする\n",
        "- ただし名前は、後ろに敬称（さん、くん、君、様）が付くものに限る"
      ],
      "metadata": {
        "id": "SvdTpR9Fv5nR"
      },
      "id": "SvdTpR9Fv5nR"
    },
    {
      "cell_type": "code",
      "source": [
        "!pip install -U hojichar==0.9.0\n",
        "!pip show hojichar\n",
        "!pip install regex\n"
      ],
      "metadata": {
        "colab": {
          "base_uri": "https://localhost:8080/"
        },
        "id": "_W9H1ct9nZ1I",
        "outputId": "d5a1c022-8c16-481a-e24d-49a16065d707"
      },
      "id": "_W9H1ct9nZ1I",
      "execution_count": null,
      "outputs": [
        {
          "output_type": "stream",
          "name": "stdout",
          "text": [
            "Collecting hojichar==0.9.0\n",
            "  Downloading hojichar-0.9.0-py3-none-any.whl (49 kB)\n",
            "\u001b[2K     \u001b[90m━━━━━━━━━━━━━━━━━━━━━━━━━━━━━━━━━━━━━━━━\u001b[0m \u001b[32m49.2/49.2 kB\u001b[0m \u001b[31m1.8 MB/s\u001b[0m eta \u001b[36m0:00:00\u001b[0m\n",
            "\u001b[?25hCollecting mmh3<5.0,>=4.0 (from hojichar==0.9.0)\n",
            "  Downloading mmh3-4.1.0-cp310-cp310-manylinux_2_5_x86_64.manylinux1_x86_64.manylinux_2_17_x86_64.manylinux2014_x86_64.whl (67 kB)\n",
            "\u001b[2K     \u001b[90m━━━━━━━━━━━━━━━━━━━━━━━━━━━━━━━━━━━━━━━━\u001b[0m \u001b[32m67.6/67.6 kB\u001b[0m \u001b[31m6.2 MB/s\u001b[0m eta \u001b[36m0:00:00\u001b[0m\n",
            "\u001b[?25hRequirement already satisfied: numpy>=1.17.0 in /usr/local/lib/python3.10/dist-packages (from hojichar==0.9.0) (1.25.2)\n",
            "Requirement already satisfied: tqdm<5.0.0,>=4.65.0 in /usr/local/lib/python3.10/dist-packages (from hojichar==0.9.0) (4.66.2)\n",
            "Installing collected packages: mmh3, hojichar\n",
            "Successfully installed hojichar-0.9.0 mmh3-4.1.0\n",
            "Name: hojichar\n",
            "Version: 0.9.0\n",
            "Summary: Text preprocessing management system.\n",
            "Home-page: https://github.com/HojiChar/HojiChar\n",
            "Author: kenta.shinzato\n",
            "Author-email: hoppiece@gmail.com\n",
            "License: Apache-2.0\n",
            "Location: /usr/local/lib/python3.10/dist-packages\n",
            "Requires: mmh3, numpy, tqdm\n",
            "Required-by: \n",
            "Requirement already satisfied: regex in /usr/local/lib/python3.10/dist-packages (2023.12.25)\n"
          ]
        }
      ]
    },
    {
      "cell_type": "code",
      "source": [
        "!pip install faker"
      ],
      "metadata": {
        "colab": {
          "base_uri": "https://localhost:8080/"
        },
        "id": "-lpwTLjNnmHJ",
        "outputId": "bea2f6e2-9af8-4ed5-a49e-2b69f513142f"
      },
      "id": "-lpwTLjNnmHJ",
      "execution_count": null,
      "outputs": [
        {
          "output_type": "stream",
          "name": "stdout",
          "text": [
            "Collecting faker\n",
            "  Downloading Faker-25.0.1-py3-none-any.whl (1.8 MB)\n",
            "\u001b[2K     \u001b[90m━━━━━━━━━━━━━━━━━━━━━━━━━━━━━━━━━━━━━━━━\u001b[0m \u001b[32m1.8/1.8 MB\u001b[0m \u001b[31m18.5 MB/s\u001b[0m eta \u001b[36m0:00:00\u001b[0m\n",
            "\u001b[?25hRequirement already satisfied: python-dateutil>=2.4 in /usr/local/lib/python3.10/dist-packages (from faker) (2.8.2)\n",
            "Requirement already satisfied: six>=1.5 in /usr/local/lib/python3.10/dist-packages (from python-dateutil>=2.4->faker) (1.16.0)\n",
            "Installing collected packages: faker\n",
            "Successfully installed faker-25.0.1\n"
          ]
        }
      ]
    },
    {
      "cell_type": "code",
      "execution_count": null,
      "id": "2a90dc34-78f6-4f2c-b0ab-440cdbf86021",
      "metadata": {
        "colab": {
          "base_uri": "https://localhost:8080/",
          "height": 1000
        },
        "id": "2a90dc34-78f6-4f2c-b0ab-440cdbf86021",
        "outputId": "f8eeff21-cfd9-4df6-9fa9-b2fb604c7ad0"
      },
      "outputs": [
        {
          "output_type": "stream",
          "name": "stdout",
          "text": [
            "{'text': 'こんにちは伊藤君、これはテストデータです。電話番号は090-4744-8002です。伊藤さんのメールアドレスはosamutakahashi@example.orgです。'}\n",
            "{'text': 'こんにちは山下君、これはテストデータです。電話番号は090-6792-1281です。三浦さんのメールアドレスはmiki72@example.netです。'}\n",
            "{'text': 'HojiCharを使用して前処理を行います。斉藤様の電話番号は、090-9898-6232です。'}\n",
            "{'text': '村上くんのメールアドレスはkhasegawa@example.orgで、電話番号は080-2584-9901です。'}\n",
            "{'text': '加藤くんのメールアドレスはsotaro39@example.netで、電話番号は080-6676-2629です。'}\n",
            "{'text': '中村くんのメールアドレスはshoheisuzuki@example.comで、電話番号は090-8759-0351です。'}\n",
            "{'text': '斎藤くんのメールアドレスはasukanakamura@example.netで、電話番号は080-9513-1672です。'}\n",
            "{'text': '伊藤くんのメールアドレスはwatanabetaichi@example.netで、電話番号は50-9740-3576です。'}\n",
            "{'text': 'HojiCharを使用して前処理を行います。石川様の電話番号は、57-2630-2826です。'}\n",
            "{'text': 'HojiCharを使用して前処理を行います。山本様の電話番号は、080-4575-5997です。'}\n",
            "{'text': '石川くんのメールアドレスはwnakamura@example.orgで、電話番号は070-1662-8880です。'}\n",
            "{'text': 'HojiCharを使用して前処理を行います。鈴木様の電話番号は、60-9498-1872です。'}\n",
            "{'text': 'HojiCharを使用して前処理を行います。伊藤様の電話番号は、070-4728-5466です。'}\n",
            "{'text': '小林くんのメールアドレスはishiiyoko@example.comで、電話番号は090-3845-9222です。'}\n",
            "{'text': '山口くんのメールアドレスはyamaguchimaaya@example.comで、電話番号は080-3350-9330です。'}\n",
            "{'text': 'こんにちは長谷川君、これはテストデータです。電話番号は18-4548-9794です。佐々木さんのメールアドレスはsatorei@example.comです。'}\n",
            "{'text': '橋本くんのメールアドレスはendojun@example.netで、電話番号は080-0052-5069です。'}\n",
            "{'text': 'こんにちは木村君、これはテストデータです。電話番号は070-6389-3658です。松田さんのメールアドレスはreinakamura@example.netです。'}\n",
            "{'text': 'こんにちは田中君、これはテストデータです。電話番号は74-9988-9058です。岡田さんのメールアドレスはsayuri72@example.comです。'}\n",
            "{'text': 'HojiCharを使用して前処理を行います。田中様の電話番号は、01-3548-6167です。'}\n",
            "{'text': 'HojiCharを使用して前処理を行います。田中様の電話番号は、38-5377-9756です。'}\n",
            "{'text': 'HojiCharを使用して前処理を行います。渡辺様の電話番号は、080-6460-0329です。'}\n",
            "{'text': 'こんにちは鈴木君、これはテストデータです。電話番号は090-3934-9876です。吉田さんのメールアドレスはyamaguchimikako@example.netです。'}\n",
            "{'text': 'HojiCharを使用して前処理を行います。木村様の電話番号は、40-2439-8015です。'}\n",
            "{'text': '近藤くんのメールアドレスはmaaya27@example.orgで、電話番号は090-2271-7995です。'}\n",
            "{'text': 'HojiCharを使用して前処理を行います。山口様の電話番号は、090-0126-1807です。'}\n",
            "{'text': 'HojiCharを使用して前処理を行います。鈴木様の電話番号は、090-7422-5467です。'}\n",
            "{'text': 'HojiCharを使用して前処理を行います。渡辺様の電話番号は、18-5479-9216です。'}\n",
            "{'text': 'こんにちは佐々木君、これはテストデータです。電話番号は080-7735-8020です。田中さんのメールアドレスはtakahashichiyo@example.orgです。'}\n",
            "{'text': 'こんにちは渡辺君、これはテストデータです。電話番号は070-2359-0634です。渡辺さんのメールアドレスはfyoshida@example.netです。'}\n",
            "{'text': 'こんにちは松田君、これはテストデータです。電話番号は090-9924-2119です。佐藤さんのメールアドレスはnaotoyoshida@example.orgです。'}\n",
            "{'text': 'こんにちは高橋君、これはテストデータです。電話番号は070-0100-5979です。吉田さんのメールアドレスはhanako64@example.orgです。'}\n",
            "{'text': 'HojiCharを使用して前処理を行います。渡辺様の電話番号は、080-5352-7119です。'}\n",
            "{'text': '高橋くんのメールアドレスはokamotojun@example.comで、電話番号は090-4381-8898です。'}\n",
            "{'text': 'こんにちは井上君、これはテストデータです。電話番号は080-6486-6520です。遠藤さんのメールアドレスはgsuzuki@example.orgです。'}\n",
            "{'text': 'HojiCharを使用して前処理を行います。坂本様の電話番号は、91-8049-0578です。'}\n",
            "{'text': 'こんにちは山本君、これはテストデータです。電話番号は090-7852-6688です。近藤さんのメールアドレスはhito@example.comです。'}\n",
            "{'text': 'HojiCharを使用して前処理を行います。山下様の電話番号は、08-9140-7271です。'}\n",
            "{'text': 'HojiCharを使用して前処理を行います。田中様の電話番号は、080-0957-4793です。'}\n",
            "{'text': 'HojiCharを使用して前処理を行います。鈴木様の電話番号は、080-0236-7428です。'}\n",
            "{'text': 'HojiCharを使用して前処理を行います。坂本様の電話番号は、090-2976-5203です。'}\n",
            "{'text': 'こんにちは小川君、これはテストデータです。電話番号は090-8671-8347です。山本さんのメールアドレスはrei15@example.comです。'}\n",
            "{'text': 'こんにちは藤井君、これはテストデータです。電話番号は070-8638-3842です。近藤さんのメールアドレスはqyamamoto@example.orgです。'}\n",
            "{'text': '中村くんのメールアドレスはtnakamura@example.orgで、電話番号は29-3785-1055です。'}\n",
            "{'text': 'こんにちは高橋君、これはテストデータです。電話番号は070-5524-1457です。山田さんのメールアドレスはrmurakami@example.comです。'}\n",
            "{'text': '橋本くんのメールアドレスはyosukenakajima@example.orgで、電話番号は91-0451-9722です。'}\n",
            "{'text': 'HojiCharを使用して前処理を行います。佐藤様の電話番号は、090-3349-6357です。'}\n",
            "{'text': 'HojiCharを使用して前処理を行います。高橋様の電話番号は、090-8382-8492です。'}\n",
            "{'text': 'こんにちは小林君、これはテストデータです。電話番号は94-1628-1754です。中村さんのメールアドレスはlyoshida@example.netです。'}\n",
            "{'text': '渡辺くんのメールアドレスはpikeda@example.comで、電話番号は06-0864-2186です。'}\n",
            "{'text': 'こんにちは遠藤君、これはテストデータです。電話番号は090-0521-4076です。佐々木さんのメールアドレスはykondo@example.orgです。'}\n",
            "{'text': '小林くんのメールアドレスはpsaito@example.netで、電話番号は090-7725-8817です。'}\n",
            "{'text': '田中くんのメールアドレスはsatomi56@example.orgで、電話番号は070-3923-9552です。'}\n",
            "{'text': '吉田くんのメールアドレスはtkobayashi@example.comで、電話番号は090-6943-7088です。'}\n",
            "{'text': '村上くんのメールアドレスはjunikeda@example.orgで、電話番号は02-7093-3441です。'}\n",
            "{'text': 'こんにちは森君、これはテストデータです。電話番号は29-5126-7531です。小林さんのメールアドレスはyoichihayashi@example.comです。'}\n",
            "{'text': 'こんにちは三浦君、これはテストデータです。電話番号は070-2751-2979です。田中さんのメールアドレスはchiyo73@example.comです。'}\n",
            "{'text': 'こんにちは鈴木君、これはテストデータです。電話番号は070-7970-5980です。小川さんのメールアドレスはznakagawa@example.orgです。'}\n",
            "{'text': '高橋くんのメールアドレスはryohei66@example.comで、電話番号は090-7489-1506です。'}\n",
            "{'text': '山本くんのメールアドレスはsotarofujita@example.comで、電話番号は090-0291-5756です。'}\n",
            "{'text': 'こんにちは鈴木君、これはテストデータです。電話番号は070-2019-3252です。伊藤さんのメールアドレスはfujitamaaya@example.comです。'}\n",
            "{'text': '山田くんのメールアドレスはitoryohei@example.comで、電話番号は080-7392-6670です。'}\n",
            "{'text': 'こんにちは山下君、これはテストデータです。電話番号は080-2266-8007です。山崎さんのメールアドレスはinakagawa@example.orgです。'}\n",
            "{'text': 'HojiCharを使用して前処理を行います。佐藤様の電話番号は、090-9310-9362です。'}\n",
            "{'text': '中川くんのメールアドレスはabetakuma@example.comで、電話番号は86-9515-2172です。'}\n",
            "{'text': 'こんにちは西村君、これはテストデータです。電話番号は070-4816-9151です。伊藤さんのメールアドレスはitoyosuke@example.netです。'}\n",
            "{'text': '加藤くんのメールアドレスはyosuke28@example.comで、電話番号は080-4425-2613です。'}\n",
            "{'text': 'HojiCharを使用して前処理を行います。近藤様の電話番号は、070-4294-4564です。'}\n",
            "{'text': 'HojiCharを使用して前処理を行います。高橋様の電話番号は、070-6006-5725です。'}\n",
            "{'text': 'こんにちは池田君、これはテストデータです。電話番号は76-9756-1614です。加藤さんのメールアドレスはkazuyaito@example.comです。'}\n",
            "{'text': '清水くんのメールアドレスはyamaguchitsubasa@example.comで、電話番号は070-8978-5386です。'}\n",
            "{'text': 'こんにちは藤原君、これはテストデータです。電話番号は090-0014-7784です。前田さんのメールアドレスはfkobayashi@example.netです。'}\n",
            "{'text': '林くんのメールアドレスはyokonishimura@example.comで、電話番号は82-7289-7496です。'}\n",
            "{'text': 'HojiCharを使用して前処理を行います。斎藤様の電話番号は、31-9152-1382です。'}\n",
            "{'text': 'こんにちは加藤君、これはテストデータです。電話番号は090-4256-5141です。山本さんのメールアドレスはatsushiabe@example.comです。'}\n",
            "{'text': '前田くんのメールアドレスはnsasaki@example.comで、電話番号は090-1528-7794です。'}\n",
            "{'text': '村上くんのメールアドレスはmomokomurakami@example.comで、電話番号は070-9893-7841です。'}\n",
            "{'text': '高橋くんのメールアドレスはnanami36@example.netで、電話番号は090-8744-5119です。'}\n",
            "{'text': 'こんにちは佐藤君、これはテストデータです。電話番号は080-7190-0175です。佐藤さんのメールアドレスはyumiko00@example.orgです。'}\n",
            "{'text': 'こんにちは吉田君、これはテストデータです。電話番号は090-3028-3932です。前田さんのメールアドレスはyasuhirosato@example.netです。'}\n",
            "{'text': 'HojiCharを使用して前処理を行います。前田様の電話番号は、070-1822-9987です。'}\n",
            "{'text': 'こんにちは清水君、これはテストデータです。電話番号は070-0419-0105です。田中さんのメールアドレスはrika42@example.comです。'}\n",
            "{'text': '高橋くんのメールアドレスはminoruyamada@example.comで、電話番号は070-3841-6828です。'}\n",
            "{'text': 'こんにちは小林君、これはテストデータです。電話番号は090-7254-1576です。橋本さんのメールアドレスはckobayashi@example.comです。'}\n",
            "{'text': 'こんにちは村上君、これはテストデータです。電話番号は080-1882-0865です。鈴木さんのメールアドレスはyuki80@example.orgです。'}\n",
            "{'text': '中村くんのメールアドレスはgabe@example.comで、電話番号は080-6662-7666です。'}\n",
            "{'text': '山本くんのメールアドレスはktakahashi@example.netで、電話番号は070-9227-2772です。'}\n",
            "{'text': '山本くんのメールアドレスはinouejun@example.orgで、電話番号は080-8983-1600です。'}\n",
            "{'text': 'こんにちは小林君、これはテストデータです。電話番号は080-3110-5747です。中村さんのメールアドレスはcsuzuki@example.comです。'}\n",
            "{'text': 'HojiCharを使用して前処理を行います。山本様の電話番号は、070-8921-6998です。'}\n",
            "{'text': 'こんにちは小林君、これはテストデータです。電話番号は070-0242-5434です。伊藤さんのメールアドレスはyamadachiyo@example.netです。'}\n",
            "{'text': 'こんにちは小林君、これはテストデータです。電話番号は69-6679-4368です。後藤さんのメールアドレスはhanakosato@example.orgです。'}\n",
            "{'text': 'こんにちは池田君、これはテストデータです。電話番号は090-4563-6372です。斎藤さんのメールアドレスはyoichiogawa@example.comです。'}\n",
            "{'text': '山田くんのメールアドレスはyuitanaka@example.netで、電話番号は080-1462-9154です。'}\n",
            "{'text': 'HojiCharを使用して前処理を行います。田中様の電話番号は、070-7178-9595です。'}\n",
            "{'text': '太田くんのメールアドレスはkaoriabe@example.netで、電話番号は11-0382-5900です。'}\n",
            "{'text': 'HojiCharを使用して前処理を行います。吉田様の電話番号は、070-0551-2659です。'}\n",
            "{'text': 'HojiCharを使用して前処理を行います。長谷川様の電話番号は、070-4815-7661です。'}\n",
            "{'text': 'こんにちは山田君、これはテストデータです。電話番号は080-9145-7650です。松田さんのメールアドレスはtsato@example.orgです。'}\n",
            "{'text': 'こんにちは山田君、これはテストデータです。電話番号は070-9751-2159です。斎藤さんのメールアドレスはvyamamoto@example.orgです。'}\n"
          ]
        }
      ],
      "source": [
        "import regex as re\n",
        "import json\n",
        "import random\n",
        "import hojichar\n",
        "from multiprocessing import Pool, cpu_count\n",
        "from faker import Faker\n",
        "\n",
        "fake = Faker('ja_JP')  # 日本語のダミーデータを生成するためのFakerインスタンス\n",
        "\n",
        "num_samples = 100000\n",
        "dummy_texts = [\n",
        "    \"こんにちは田中君、これはテストデータです。電話番号は08098765432です。佐藤さんのメールアドレスはdef@example.comです。\",\n",
        "    \"山田くんのメールアドレスはjtwmdagp@gmail.comで、電話番号は03-4499-3322です。\",\n",
        "    \"HojiCharを使用して前処理を行います。村上様の電話番号は、075-4329-9899です。\",\n",
        "]\n",
        "\n",
        "def replace_entities(text):\n",
        "    # 名前を置換\n",
        "    text = re.sub(r'(?P<name>\\p{Script=Han}+)(?P<honorific>さん|くん|様|君)',\n",
        "                  lambda m: fake.last_name() + m.group('honorific'), text)\n",
        "\n",
        "    # 電話番号を置換\n",
        "    text = re.sub(r'\\d{2,4}-?\\d{2,4}-?\\d{2,4}', lambda x: fake.phone_number(), text)\n",
        "\n",
        "    # メールアドレスを置換\n",
        "    text = re.sub(r'[a-zA-Z0-9._%+-]+@[a-zA-Z0-9.-]+\\.[a-zA-Z]{2,}', fake.email(), text)\n",
        "\n",
        "    return text\n",
        "\n",
        "def process_text(text):\n",
        "    replaced_text = replace_entities(text)\n",
        "    # HojiCharの処理\n",
        "    cleaner = hojichar.Compose([\n",
        "        hojichar.document_filters.DocumentNormalizer(),\n",
        "        hojichar.document_filters.JSONDumper(),\n",
        "    ])\n",
        "    document = hojichar.Document(json.dumps({\"text\": replaced_text}))\n",
        "    cleaned_text = cleaner.apply(document).text\n",
        "    return cleaned_text\n",
        "\n",
        "def main():\n",
        "    random_texts = [random.choice(dummy_texts) for _ in range(num_samples)]\n",
        "    num_cores = cpu_count()\n",
        "\n",
        "    with Pool(num_cores) as pool:\n",
        "        processed_texts = pool.map(process_text, random_texts)\n",
        "\n",
        "    with open(\"your_text.jsonl\", \"w\") as f:\n",
        "        for processed_text in processed_texts:\n",
        "            f.write(processed_text + \"\\n\")\n",
        "\n",
        "    # 結果の表示\n",
        "    num_display = 100\n",
        "    with open(\"your_text.jsonl\", \"r\") as f:\n",
        "        for i, line in enumerate(f):\n",
        "            if i >= num_display:\n",
        "                break\n",
        "            data = json.loads(line)\n",
        "            actual_text = data['text']\n",
        "            print(actual_text)\n",
        "\n",
        "if __name__ == \"__main__\":\n",
        "    main()"
      ]
    }
  ],
  "metadata": {
    "kernelspec": {
      "display_name": "Python 3",
      "name": "python3"
    },
    "language_info": {
      "codemirror_mode": {
        "name": "ipython",
        "version": 3
      },
      "file_extension": ".py",
      "mimetype": "text/x-python",
      "name": "python",
      "nbconvert_exporter": "python",
      "pygments_lexer": "ipython3",
      "version": "3.8.8"
    },
    "colab": {
      "provenance": [],
      "machine_shape": "hm",
      "collapsed_sections": [
        "SvdTpR9Fv5nR",
        "FmG7zrUOwua1",
        "kM4HtBfss_sQ"
      ]
    }
  },
  "nbformat": 4,
  "nbformat_minor": 5
}