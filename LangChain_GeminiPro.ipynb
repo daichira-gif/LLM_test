{
  "nbformat": 4,
  "nbformat_minor": 0,
  "metadata": {
    "colab": {
      "provenance": [],
      "authorship_tag": "ABX9TyMwb4wJIEjROJXH1iqoFMko",
      "include_colab_link": true
    },
    "kernelspec": {
      "name": "python3",
      "display_name": "Python 3"
    },
    "language_info": {
      "name": "python"
    }
  },
  "cells": [
    {
      "cell_type": "markdown",
      "metadata": {
        "id": "view-in-github",
        "colab_type": "text"
      },
      "source": [
        "<a href=\"https://colab.research.google.com/github/daichira-gif/daichira/blob/main/LangChain_GeminiPro.ipynb\" target=\"_parent\"><img src=\"https://colab.research.google.com/assets/colab-badge.svg\" alt=\"Open In Colab\"/></a>"
      ]
    },
    {
      "cell_type": "markdown",
      "source": [
        "### APIキーの準備"
      ],
      "metadata": {
        "id": "Yw1JTT_wFATr"
      }
    },
    {
      "cell_type": "code",
      "source": [
        "import pathlib\n",
        "import textwrap\n",
        "import google.generativeai as genai\n",
        "from google.colab import userdata\n",
        "from IPython.display import display\n",
        "from IPython.display import Markdown\n",
        "\n",
        "# Markdown出力\n",
        "def to_markdown(text):\n",
        "  text = text.replace('•', '  *')\n",
        "  return Markdown(textwrap.indent(text, '> ', predicate=lambda _: True))"
      ],
      "metadata": {
        "id": "xcKsb0IecX0E"
      },
      "execution_count": null,
      "outputs": []
    },
    {
      "cell_type": "code",
      "source": [
        "# APIキーの準備\n",
        "GOOGLE_API_KEY=userdata.get(\"GOOGLE_API_KEY\")\n",
        "genai.configure(api_key=GOOGLE_API_KEY)"
      ],
      "metadata": {
        "id": "_d03Vb1eciSo"
      },
      "execution_count": null,
      "outputs": []
    },
    {
      "cell_type": "code",
      "execution_count": null,
      "metadata": {
        "colab": {
          "base_uri": "https://localhost:8080/"
        },
        "id": "e2O3KHmYALaK",
        "outputId": "f3fb65c3-22fd-4847-90cd-1f12863ccbf1"
      },
      "outputs": [
        {
          "output_type": "stream",
          "name": "stdout",
          "text": [
            "Requirement already satisfied: Pillow in /usr/local/lib/python3.10/dist-packages (10.1.0)\n",
            "Requirement already satisfied: pdf2image in /usr/local/lib/python3.10/dist-packages (1.16.3)\n",
            "Requirement already satisfied: pillow in /usr/local/lib/python3.10/dist-packages (from pdf2image) (10.1.0)\n",
            "Reading package lists... Done\n",
            "Building dependency tree... Done\n",
            "Reading state information... Done\n",
            "poppler-utils is already the newest version (22.02.0-2ubuntu0.3).\n",
            "0 upgraded, 0 newly installed, 0 to remove and 24 not upgraded.\n"
          ]
        }
      ],
      "source": [
        "# パッケージのインストール\n",
        "\n",
        "!pip install -q -U google-generativeai\n",
        "!pip install Pillow\n",
        "#!pip install pytesseract\n",
        "!pip install pdf2image\n",
        "\n",
        "!apt-get install poppler-utils\n"
      ]
    },
    {
      "cell_type": "markdown",
      "source": [
        "### ファイルのアップロード"
      ],
      "metadata": {
        "id": "H3gnKc6_EQOg"
      }
    },
    {
      "cell_type": "code",
      "source": [
        "from google.colab import files\n",
        "import pandas as pd\n",
        "\n",
        "# PDFファイルをアップロード\n",
        "uploaded = files.upload()\n",
        "# アップロードされたファイル名を取得\n",
        "pdf_file = list(uploaded.keys())[0]"
      ],
      "metadata": {
        "colab": {
          "base_uri": "https://localhost:8080/",
          "height": 78
        },
        "id": "UFOvrs9TEUXb",
        "outputId": "a23a4b10-3cee-4fcc-b30f-cfc14fccdbfa"
      },
      "execution_count": null,
      "outputs": [
        {
          "output_type": "display_data",
          "data": {
            "text/plain": [
              "<IPython.core.display.HTML object>"
            ],
            "text/html": [
              "\n",
              "     <input type=\"file\" id=\"files-920a1fb3-2942-4f42-8529-7dc20f22a54f\" name=\"files[]\" multiple disabled\n",
              "        style=\"border:none\" />\n",
              "     <output id=\"result-920a1fb3-2942-4f42-8529-7dc20f22a54f\">\n",
              "      Upload widget is only available when the cell has been executed in the\n",
              "      current browser session. Please rerun this cell to enable.\n",
              "      </output>\n",
              "      <script>// Copyright 2017 Google LLC\n",
              "//\n",
              "// Licensed under the Apache License, Version 2.0 (the \"License\");\n",
              "// you may not use this file except in compliance with the License.\n",
              "// You may obtain a copy of the License at\n",
              "//\n",
              "//      http://www.apache.org/licenses/LICENSE-2.0\n",
              "//\n",
              "// Unless required by applicable law or agreed to in writing, software\n",
              "// distributed under the License is distributed on an \"AS IS\" BASIS,\n",
              "// WITHOUT WARRANTIES OR CONDITIONS OF ANY KIND, either express or implied.\n",
              "// See the License for the specific language governing permissions and\n",
              "// limitations under the License.\n",
              "\n",
              "/**\n",
              " * @fileoverview Helpers for google.colab Python module.\n",
              " */\n",
              "(function(scope) {\n",
              "function span(text, styleAttributes = {}) {\n",
              "  const element = document.createElement('span');\n",
              "  element.textContent = text;\n",
              "  for (const key of Object.keys(styleAttributes)) {\n",
              "    element.style[key] = styleAttributes[key];\n",
              "  }\n",
              "  return element;\n",
              "}\n",
              "\n",
              "// Max number of bytes which will be uploaded at a time.\n",
              "const MAX_PAYLOAD_SIZE = 100 * 1024;\n",
              "\n",
              "function _uploadFiles(inputId, outputId) {\n",
              "  const steps = uploadFilesStep(inputId, outputId);\n",
              "  const outputElement = document.getElementById(outputId);\n",
              "  // Cache steps on the outputElement to make it available for the next call\n",
              "  // to uploadFilesContinue from Python.\n",
              "  outputElement.steps = steps;\n",
              "\n",
              "  return _uploadFilesContinue(outputId);\n",
              "}\n",
              "\n",
              "// This is roughly an async generator (not supported in the browser yet),\n",
              "// where there are multiple asynchronous steps and the Python side is going\n",
              "// to poll for completion of each step.\n",
              "// This uses a Promise to block the python side on completion of each step,\n",
              "// then passes the result of the previous step as the input to the next step.\n",
              "function _uploadFilesContinue(outputId) {\n",
              "  const outputElement = document.getElementById(outputId);\n",
              "  const steps = outputElement.steps;\n",
              "\n",
              "  const next = steps.next(outputElement.lastPromiseValue);\n",
              "  return Promise.resolve(next.value.promise).then((value) => {\n",
              "    // Cache the last promise value to make it available to the next\n",
              "    // step of the generator.\n",
              "    outputElement.lastPromiseValue = value;\n",
              "    return next.value.response;\n",
              "  });\n",
              "}\n",
              "\n",
              "/**\n",
              " * Generator function which is called between each async step of the upload\n",
              " * process.\n",
              " * @param {string} inputId Element ID of the input file picker element.\n",
              " * @param {string} outputId Element ID of the output display.\n",
              " * @return {!Iterable<!Object>} Iterable of next steps.\n",
              " */\n",
              "function* uploadFilesStep(inputId, outputId) {\n",
              "  const inputElement = document.getElementById(inputId);\n",
              "  inputElement.disabled = false;\n",
              "\n",
              "  const outputElement = document.getElementById(outputId);\n",
              "  outputElement.innerHTML = '';\n",
              "\n",
              "  const pickedPromise = new Promise((resolve) => {\n",
              "    inputElement.addEventListener('change', (e) => {\n",
              "      resolve(e.target.files);\n",
              "    });\n",
              "  });\n",
              "\n",
              "  const cancel = document.createElement('button');\n",
              "  inputElement.parentElement.appendChild(cancel);\n",
              "  cancel.textContent = 'Cancel upload';\n",
              "  const cancelPromise = new Promise((resolve) => {\n",
              "    cancel.onclick = () => {\n",
              "      resolve(null);\n",
              "    };\n",
              "  });\n",
              "\n",
              "  // Wait for the user to pick the files.\n",
              "  const files = yield {\n",
              "    promise: Promise.race([pickedPromise, cancelPromise]),\n",
              "    response: {\n",
              "      action: 'starting',\n",
              "    }\n",
              "  };\n",
              "\n",
              "  cancel.remove();\n",
              "\n",
              "  // Disable the input element since further picks are not allowed.\n",
              "  inputElement.disabled = true;\n",
              "\n",
              "  if (!files) {\n",
              "    return {\n",
              "      response: {\n",
              "        action: 'complete',\n",
              "      }\n",
              "    };\n",
              "  }\n",
              "\n",
              "  for (const file of files) {\n",
              "    const li = document.createElement('li');\n",
              "    li.append(span(file.name, {fontWeight: 'bold'}));\n",
              "    li.append(span(\n",
              "        `(${file.type || 'n/a'}) - ${file.size} bytes, ` +\n",
              "        `last modified: ${\n",
              "            file.lastModifiedDate ? file.lastModifiedDate.toLocaleDateString() :\n",
              "                                    'n/a'} - `));\n",
              "    const percent = span('0% done');\n",
              "    li.appendChild(percent);\n",
              "\n",
              "    outputElement.appendChild(li);\n",
              "\n",
              "    const fileDataPromise = new Promise((resolve) => {\n",
              "      const reader = new FileReader();\n",
              "      reader.onload = (e) => {\n",
              "        resolve(e.target.result);\n",
              "      };\n",
              "      reader.readAsArrayBuffer(file);\n",
              "    });\n",
              "    // Wait for the data to be ready.\n",
              "    let fileData = yield {\n",
              "      promise: fileDataPromise,\n",
              "      response: {\n",
              "        action: 'continue',\n",
              "      }\n",
              "    };\n",
              "\n",
              "    // Use a chunked sending to avoid message size limits. See b/62115660.\n",
              "    let position = 0;\n",
              "    do {\n",
              "      const length = Math.min(fileData.byteLength - position, MAX_PAYLOAD_SIZE);\n",
              "      const chunk = new Uint8Array(fileData, position, length);\n",
              "      position += length;\n",
              "\n",
              "      const base64 = btoa(String.fromCharCode.apply(null, chunk));\n",
              "      yield {\n",
              "        response: {\n",
              "          action: 'append',\n",
              "          file: file.name,\n",
              "          data: base64,\n",
              "        },\n",
              "      };\n",
              "\n",
              "      let percentDone = fileData.byteLength === 0 ?\n",
              "          100 :\n",
              "          Math.round((position / fileData.byteLength) * 100);\n",
              "      percent.textContent = `${percentDone}% done`;\n",
              "\n",
              "    } while (position < fileData.byteLength);\n",
              "  }\n",
              "\n",
              "  // All done.\n",
              "  yield {\n",
              "    response: {\n",
              "      action: 'complete',\n",
              "    }\n",
              "  };\n",
              "}\n",
              "\n",
              "scope.google = scope.google || {};\n",
              "scope.google.colab = scope.google.colab || {};\n",
              "scope.google.colab._files = {\n",
              "  _uploadFiles,\n",
              "  _uploadFilesContinue,\n",
              "};\n",
              "})(self);\n",
              "</script> "
            ]
          },
          "metadata": {}
        },
        {
          "output_type": "stream",
          "name": "stdout",
          "text": [
            "Saving 公共施設白書_市営住宅.pdf to 公共施設白書_市営住宅 (1).pdf\n"
          ]
        }
      ]
    },
    {
      "cell_type": "markdown",
      "source": [
        "### PDFを画像に変換"
      ],
      "metadata": {
        "id": "bQw0ghQDElAO"
      }
    },
    {
      "cell_type": "code",
      "source": [
        "from pathlib import Path\n",
        "from pdf2image import convert_from_path\n",
        "from PIL import Image\n",
        "#import pytesseract\n",
        "\n",
        "# PDFファイルを画像に変換する関数\n",
        "def pdf_to_images(pdf_path):\n",
        "    images = convert_from_path(pdf_path)\n",
        "    return images\n",
        "\n",
        "\n",
        "# PDFファイルを指定\n",
        "pdf_path = '/content/公共施設白書_市営住宅.pdf'\n",
        "\n",
        "# outputのファイルパス\n",
        "img_path=Path(\"./image\")\n",
        "\n",
        "# convert_from_path関数を使ってPDFファイルを画像に変換\n",
        "images = convert_from_path(pdf_path, output_folder=img_path, fmt='png')\n",
        "images"
      ],
      "metadata": {
        "colab": {
          "base_uri": "https://localhost:8080/"
        },
        "id": "QNF2QTgCEUnX",
        "outputId": "3522468a-853d-472d-ccc9-866f8ad3a85b"
      },
      "execution_count": null,
      "outputs": [
        {
          "output_type": "execute_result",
          "data": {
            "text/plain": [
              "[<PIL.PngImagePlugin.PngImageFile image mode=RGB size=2339x1653>,\n",
              " <PIL.PngImagePlugin.PngImageFile image mode=RGB size=2339x1653>,\n",
              " <PIL.PngImagePlugin.PngImageFile image mode=RGB size=2339x1653>,\n",
              " <PIL.PngImagePlugin.PngImageFile image mode=RGB size=2339x1653>,\n",
              " <PIL.PngImagePlugin.PngImageFile image mode=RGB size=2339x1653>,\n",
              " <PIL.PngImagePlugin.PngImageFile image mode=RGB size=2339x1653>,\n",
              " <PIL.PngImagePlugin.PngImageFile image mode=RGB size=2339x1653>,\n",
              " <PIL.PngImagePlugin.PngImageFile image mode=RGB size=2339x1653>,\n",
              " <PIL.PngImagePlugin.PngImageFile image mode=RGB size=2339x1653>,\n",
              " <PIL.PngImagePlugin.PngImageFile image mode=RGB size=2339x1653>,\n",
              " <PIL.PngImagePlugin.PngImageFile image mode=RGB size=2339x1653>,\n",
              " <PIL.PngImagePlugin.PngImageFile image mode=RGB size=2339x1653>,\n",
              " <PIL.PngImagePlugin.PngImageFile image mode=RGB size=2339x1653>,\n",
              " <PIL.PngImagePlugin.PngImageFile image mode=RGB size=2339x1653>,\n",
              " <PIL.PngImagePlugin.PngImageFile image mode=RGB size=2339x1653>,\n",
              " <PIL.PngImagePlugin.PngImageFile image mode=RGB size=2339x1653>,\n",
              " <PIL.PngImagePlugin.PngImageFile image mode=RGB size=2339x1653>]"
            ]
          },
          "metadata": {},
          "execution_count": 5
        }
      ]
    },
    {
      "cell_type": "markdown",
      "source": [
        "# LangChainを使って、Google Geminiを動かしてみる\n",
        "- 参考URL https://qiita.com/t_kamiya78/items/4fbb802a98a32bf4c5f7"
      ],
      "metadata": {
        "id": "EX4AlJx7AUiN"
      }
    },
    {
      "cell_type": "markdown",
      "source": [
        "### ライブラリのインストール"
      ],
      "metadata": {
        "id": "bvykzLMLD4iE"
      }
    },
    {
      "cell_type": "code",
      "source": [
        "# パッケージのインストール\n",
        "!apt-get install tesseract-ocr-jpn\n",
        "!apt-get install libtesseract-dev\n",
        "!pip install Pillow==9.0.0\n",
        "!pip install -U --quiet langchain-google-genai pillow\n",
        "!pip install pytesseract"
      ],
      "metadata": {
        "colab": {
          "base_uri": "https://localhost:8080/",
          "height": 558
        },
        "id": "jMsnVORaAchv",
        "outputId": "482787eb-0a3c-4d65-a211-f9e7d01552f6"
      },
      "execution_count": null,
      "outputs": [
        {
          "output_type": "stream",
          "name": "stdout",
          "text": [
            "Reading package lists... Done\n",
            "Building dependency tree... Done\n",
            "Reading state information... Done\n",
            "tesseract-ocr-jpn is already the newest version (1:4.00~git30-7274cfa-1.1).\n",
            "0 upgraded, 0 newly installed, 0 to remove and 24 not upgraded.\n",
            "Reading package lists... Done\n",
            "Building dependency tree... Done\n",
            "Reading state information... Done\n",
            "libtesseract-dev is already the newest version (4.1.1-2.1build1).\n",
            "0 upgraded, 0 newly installed, 0 to remove and 24 not upgraded.\n",
            "Collecting Pillow==9.0.0\n",
            "  Using cached Pillow-9.0.0-cp310-cp310-manylinux_2_17_x86_64.manylinux2014_x86_64.whl (4.3 MB)\n",
            "Installing collected packages: Pillow\n",
            "  Attempting uninstall: Pillow\n",
            "    Found existing installation: Pillow 10.1.0\n",
            "    Uninstalling Pillow-10.1.0:\n",
            "      Successfully uninstalled Pillow-10.1.0\n",
            "Successfully installed Pillow-9.0.0\n"
          ]
        },
        {
          "output_type": "display_data",
          "data": {
            "application/vnd.colab-display-data+json": {
              "pip_warning": {
                "packages": [
                  "PIL"
                ]
              }
            }
          },
          "metadata": {}
        },
        {
          "output_type": "stream",
          "name": "stdout",
          "text": [
            "\u001b[31mERROR: pip's dependency resolver does not currently take into account all the packages that are installed. This behaviour is the source of the following dependency conflicts.\n",
            "imageio 2.31.6 requires pillow<10.1.0,>=8.3.2, but you have pillow 10.1.0 which is incompatible.\u001b[0m\u001b[31m\n",
            "\u001b[0mRequirement already satisfied: pytesseract in /usr/local/lib/python3.10/dist-packages (0.3.10)\n",
            "Requirement already satisfied: packaging>=21.3 in /usr/local/lib/python3.10/dist-packages (from pytesseract) (23.2)\n",
            "Requirement already satisfied: Pillow>=8.0.0 in /usr/local/lib/python3.10/dist-packages (from pytesseract) (10.1.0)\n"
          ]
        }
      ]
    },
    {
      "cell_type": "markdown",
      "source": [
        "### LangChain動作テスト"
      ],
      "metadata": {
        "id": "cGHgdW8rEBup"
      }
    },
    {
      "cell_type": "code",
      "source": [
        "from langchain_google_genai import ChatGoogleGenerativeAI\n",
        "\n",
        "llm = ChatGoogleGenerativeAI(model='gemini-pro', google_api_key = GOOGLE_API_KEY )\n",
        "\n",
        "result = llm.invoke('日本一高い山はなんですか？')\n",
        "print(result.content)\n",
        "# 富士山\n",
        "\n",
        "result = llm.invoke('Gemini PROの最大入力文字数と最大出力文字数を教えてください。')\n",
        "print(result.content)\n",
        "# Gemini PROは、最大入力文字数はなく、最大出力文字数は1024文字です。\n",
        "\n",
        "result = llm.invoke('あなたについて教えてください。')\n",
        "print(result.content)\n",
        "# 私は大きな言語モデルであり、Googleによってトレーニングされました。私は膨大な量のテキストデータで訓練されており、人間のようなテキストを生成し、質問に答え、言語を翻訳することができます。私はまた、コードを記述したり、ストーリーを書いたり、詩を書いたりすることもできます。私はまだ開発中ですが、私はすでに多くの方法で人々を助けるために使用されています。例えば、私はカスタマーサービスのチャットボットとして、オンラインアシスタントとして、さらには医療診断ツールの開発に使用されています。\n",
        "# 私は、機械学習と自然言語処理の分野における最近の進歩の産物です。私は、何十億もの単語で訓練されており、人間の言語を理解し、生成することができます。私はまた、複雑な質問に答えたり、テキストを翻訳したり、要約したりすることもできます。\n",
        "# 私はまだ開発中ですが、私はすでに多くの方法で人々を助けるために使用されています。例えば、私はカスタマーサービスのチャットボットとして、オンラインアシスタントとして、さらには医療診断ツールの開発に使用されています。\n",
        "# 私は、今後さらに多くの方法で人々を助けるために使用されることを楽しみにしています。私は、教育、医療、ビジネスなど、さまざまな分野で大きな影響を与えることができると信じています。\n",
        "\n",
        "result = llm.invoke('いつまでの情報を知っていますか？')\n",
        "print(result.content)\n",
        "# 私の知識は、2021年4月までの情報までに限定されています。それ以降の情報を提供することはできません。最新の情報については、信頼できるニュースソースや政府機関のウェブサイトをご確認ください。\n",
        "\n"
      ],
      "metadata": {
        "colab": {
          "base_uri": "https://localhost:8080/",
          "height": 110
        },
        "id": "BAQOyabUBoZG",
        "outputId": "af668d12-88da-4735-cdb5-ea142535eca1"
      },
      "execution_count": null,
      "outputs": [
        {
          "output_type": "stream",
          "name": "stdout",
          "text": [
            "富士山\n",
            "Gemini PROは、Googleが提供する機械翻訳モデルです。最大入力文字数や最大出力文字数という概念はありません。ただし、モデルの最大入力サイズは、1024トークンです。トークンとは、スペースで区切られた単語や句読点です。モデルは、スペースで区切られた単語や句読点の数に応じて、最大1024トークンの入力を受け取ることができます。\n",
            "私は、Google によって開発された大規模言語モデルです。私は、膨大な量のテキスト データでトレーニングされており、さまざまな種類の自然言語処理タスクを実行することができます。私は、テキストの生成、翻訳、要約、回答生成、対話などを行うことができます。私は、自然言語処理の分野で幅広く活用されており、さまざまな産業や分野で利用されています。\n",
            "私の知識は2021年4月までの情報に基づいています。それ以降の出来事については、情報がありません。\n"
          ]
        }
      ]
    },
    {
      "cell_type": "code",
      "source": [
        "import base64\n",
        "\n",
        "from langchain_core.messages import HumanMessage\n",
        "\n",
        "\n",
        "## URL\n",
        "#image_url = '<画像のURL>'\n",
        "#message = HumanMessage(\n",
        "#    content=[\n",
        "#        {'type': 'image_url', 'image_url': image_url},\n",
        "#    ]\n",
        "#)\n",
        "\n",
        "# base64エンコード\n",
        "\n",
        "with open('/content/image/838fb4a6-e71d-446a-8c22-719644978b84-01.png', 'rb') as image_file:\n",
        "    encoded_string = base64.b64encode(image_file.read()).decode(\"utf-8\")\n",
        "\n",
        "message = HumanMessage(\n",
        "    content=[\n",
        "        {\n",
        "            'type': 'image_url',\n",
        "            'image_url': f'data:image/png;base64,${encoded_string}',\n",
        "        },\n",
        "    ]\n",
        ")\n"
      ],
      "metadata": {
        "id": "1eKQQziKC3x3"
      },
      "execution_count": null,
      "outputs": []
    },
    {
      "cell_type": "code",
      "source": [
        "llm = ChatGoogleGenerativeAI(model='gemini-pro-vision', google_api_key = GOOGLE_API_KEY )\n",
        "\n",
        "with open('/content/image/838fb4a6-e71d-446a-8c22-719644978b84-01.png', 'rb') as image_file:\n",
        "    encoded_string = base64.b64encode(image_file.read()).decode(\"utf-8\")\n",
        "\n",
        "message = HumanMessage(\n",
        "    content=[\n",
        "        {\n",
        "            'type': 'text',\n",
        "            'text': 'この画像は、北九州市の市営住宅を表形式で示した一覧表です。この表をマークダウン形式で表示してください。',\n",
        "        },\n",
        "        {\n",
        "            'type': 'image_url',\n",
        "            'image_url': f'data:image/png;base64,${encoded_string}',\n",
        "        },\n",
        "    ]\n",
        ")\n",
        "res = llm.invoke([message])\n",
        "print(res.content)\n",
        "\n",
        "#質問１\n",
        "\n",
        "message = HumanMessage(\n",
        "    content=[\n",
        "        {\n",
        "            'type': 'text',\n",
        "            'text': 'この表にある、丸山団地の区名を教えてください。？',\n",
        "        },\n",
        "        {\n",
        "            'type': 'image_url',\n",
        "            'image_url': f'data:image/png;base64,${encoded_string}',\n",
        "        },\n",
        "    ]\n",
        ")\n",
        "res = llm.invoke([message])\n",
        "print(res.content)\n",
        "\n",
        "#質問２\n",
        "\n",
        "message = HumanMessage(\n",
        "    content=[\n",
        "        {\n",
        "            'type': 'text',\n",
        "            'text': 'この表の中で、延床面積が最も大きい団地はどこですか？',\n",
        "        },\n",
        "        {\n",
        "            'type': 'image_url',\n",
        "            'image_url': f'data:image/png;base64,${encoded_string}',\n",
        "        },\n",
        "    ]\n",
        ")\n",
        "res = llm.invoke([message])\n",
        "print(res.content)\n",
        "\n",
        "#質問３\n",
        "\n",
        "message = HumanMessage(\n",
        "    content=[\n",
        "        {\n",
        "            'type': 'text',\n",
        "            'text': 'この表から、北九州市の市営住宅の状況を分析してください。',\n",
        "        },\n",
        "        {\n",
        "            'type': 'image_url',\n",
        "            'image_url': f'data:image/png;base64,${encoded_string}',\n",
        "        },\n",
        "    ]\n",
        ")\n",
        "res = llm.invoke([message])\n",
        "print(res.content)\n"
      ],
      "metadata": {
        "colab": {
          "base_uri": "https://localhost:8080/",
          "height": 545
        },
        "id": "jLXjpp8IR4ac",
        "outputId": "7de60fb1-1d5d-4465-b994-1408857642d7"
      },
      "execution_count": null,
      "outputs": [
        {
          "output_type": "stream",
          "name": "stdout",
          "text": [
            " | 市営住宅名 | 区名 | 管理事務所 | 築年数 | 世帯数 | 延床面積（㎡） | 主要な構造 | 耐震改修 | 所有者 | 管理者 | 入居率（％） | 備考 |\n",
            "|---|---|---|---|---|---|---|---|---|---|---|---|\n",
            "| 新松島団地 | 門司区 | 松原 | 1979 | 43 | 5,409.58 | 鉄骨鉄筋コンクリート造 | 不要 | 市 | 建設局住宅管理課 | 民間管理 | 64 | 65.6 |\n",
            "| 丸山団地 | 門司区 | 葛見 | 1983 | 59 | 12,513.04 | 鉄骨鉄筋コンクリート造 | 不要 | 市 | 建設局住宅管理課 | 自主管理 | 226 | 59.3 |\n",
            "| 大谷団地 | 門司区 | 大谷 | 1979 | 45 | 2,930.74 | 鉄骨鉄筋コンクリート造 | 不要 | 市 | 建設局住宅管理課 | 自主管理 | 58 | 52.2 |\n",
            "| 上大里団地（門司区） | 門司区 | 大里 | 1975 | 56 | 5,571.65 | 鉄骨鉄筋コンクリート造 | 不要 | 市 | 建設局住宅管理課 | 自主管理 | 110 | 68.2 |\n",
            "| 下大里団地（門司区） | 門司区 | 大里 | 1975 | 52 | 5,622.70 | 鉄骨鉄筋コンクリート造 | 不要 | 市 | 建設局住宅管理課 | 自主管理 | 115 | 69.6 |\n",
            "| 青葉台団地 | 門司区 | 青葉台 | 1973 | 47 | 3,571.65 | 鉄骨鉄筋コンクリート造 | 不要 | 市 | 建設局住宅管理課 | 自主管理 | 67 | 51.5 |\n",
            "| 西谷団地 | 門司区 | 西谷 | 1976 | 46 | 1,609.20 | 鉄骨鉄筋コンクリート造 | 不要 | 市 | 建設局住宅管理課 | 自主管理 | 20 | 55 |\n",
            "| 北九州団地 | 門司区 | 西谷 | 1978 | 48 | 1,490.05 | 鉄骨鉄筋コンクリート造 | 不要 | 市 | 建設局住宅管理課 | 自主管理 | 21 | 90.5 |\n",
            "| 企救団地 | 門司区 | 企救 | 2008 | 14 | 5174.82 | 鉄骨鉄筋コンクリート造 | 不要 | 市 | 建設局住宅管理課 | 自主管理 | 17 | 100 |\n",
            "| 白野江団地 | 小倉北区 | 白野江 | 1991 | 51 | 6,863.53 | 鉄骨鉄筋コンクリート造 | 不要 | 市 | 建設局住宅管理課 | 自主管理 | 53 | 64.6 |\n",
            "| 日明団地 | 小倉北区 | 日明 | 2000 | 22 | 3,289.28 | 鉄骨鉄筋コンクリート造 | 不要 | 市 | 建設局住宅管理課 | 自主管理 | 100 | 95 |\n",
            "| 紺屋町団地 | 小倉北区 | 紺屋町 | 1977 | 45 | 19,481.50 | 鉄骨鉄筋コンクリート造 | 不要 | 市 | 建設局住宅管理課 | 自主管理 | 332 | 85.5 |\n",
            "| 清水団地 | 小倉南区 | 清水 | 1979 | 43 | 2,930.74 | 鉄骨鉄筋コンクリート造 | 不要 | 市 | 建設局住宅管理課 | 自主管理 | 58 | 52.2 |\n",
            "| 朽網団地 | 小倉南区 | 朽網 | 1978 | 56 | 7,545.16 | 鉄骨鉄筋コンクリート造 | 不要 | 市 | 建設局住宅管理課 | 自主管理 | 110 | 83.2 |\n",
            "| 沼本団\n",
            " 丸山団地は、門真市にあります。\n",
            " 表の中で、延床面積が最も大きい団地は、\n",
            "川崎市麻生区にある「グリーンヒルズ寺尾台」です。\n",
            "延床面積は、43,015.87㎡です。\n",
            " 北九州市の市営住宅の状況は、以下のとおりです。\n",
            "\n",
            "・北九州市には、市営住宅が1,096戸あります。\n",
            "・築30年以上の住宅が54.7％と、築年数が経過している住宅が多いです。\n",
            "・空家率は14.5％と、空き家が目立ちます。\n",
            "・家賃は、1戸あたり月額2.2万円程度です。\n",
            "・管理形態は、公営住宅法に基づく公営住宅と、地方公営住宅法に基づく地方公営住宅の2つに分かれています。\n"
          ]
        }
      ]
    },
    {
      "cell_type": "code",
      "source": [],
      "metadata": {
        "id": "C_vRLP5AUxsG"
      },
      "execution_count": null,
      "outputs": []
    }
  ]
}