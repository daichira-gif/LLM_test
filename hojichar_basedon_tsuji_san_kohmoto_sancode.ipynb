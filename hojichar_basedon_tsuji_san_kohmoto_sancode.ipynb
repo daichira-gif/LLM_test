{
  "cells": [
    {
      "cell_type": "markdown",
      "metadata": {
        "id": "view-in-github",
        "colab_type": "text"
      },
      "source": [
        "<a href=\"https://colab.research.google.com/github/daichira-gif/daichira/blob/main/hojichar_basedon_tsuji_san_kohmoto_sancode.ipynb\" target=\"_parent\"><img src=\"https://colab.research.google.com/assets/colab-badge.svg\" alt=\"Open In Colab\"/></a>"
      ]
    },
    {
      "cell_type": "code",
      "execution_count": null,
      "id": "4b1319f2-b81c-481c-b5e6-3d5507efb138",
      "metadata": {
        "colab": {
          "base_uri": "https://localhost:8080/"
        },
        "id": "4b1319f2-b81c-481c-b5e6-3d5507efb138",
        "outputId": "f0bf8f13-9ec8-470d-a22e-7a1c6b442f39"
      },
      "outputs": [
        {
          "output_type": "stream",
          "name": "stdout",
          "text": [
            "Collecting hojichar==0.9.0\n",
            "  Downloading hojichar-0.9.0-py3-none-any.whl (49 kB)\n",
            "\u001b[2K     \u001b[90m━━━━━━━━━━━━━━━━━━━━━━━━━━━━━━━━━━━━━━━━\u001b[0m \u001b[32m49.2/49.2 kB\u001b[0m \u001b[31m667.6 kB/s\u001b[0m eta \u001b[36m0:00:00\u001b[0m\n",
            "\u001b[?25hCollecting mmh3<5.0,>=4.0 (from hojichar==0.9.0)\n",
            "  Downloading mmh3-4.1.0-cp310-cp310-manylinux_2_5_x86_64.manylinux1_x86_64.manylinux_2_17_x86_64.manylinux2014_x86_64.whl (67 kB)\n",
            "\u001b[2K     \u001b[90m━━━━━━━━━━━━━━━━━━━━━━━━━━━━━━━━━━━━━━━━\u001b[0m \u001b[32m67.6/67.6 kB\u001b[0m \u001b[31m2.4 MB/s\u001b[0m eta \u001b[36m0:00:00\u001b[0m\n",
            "\u001b[?25hRequirement already satisfied: numpy>=1.17.0 in /usr/local/lib/python3.10/dist-packages (from hojichar==0.9.0) (1.25.2)\n",
            "Requirement already satisfied: tqdm<5.0.0,>=4.65.0 in /usr/local/lib/python3.10/dist-packages (from hojichar==0.9.0) (4.66.2)\n",
            "Installing collected packages: mmh3, hojichar\n",
            "Successfully installed hojichar-0.9.0 mmh3-4.1.0\n",
            "Name: hojichar\n",
            "Version: 0.9.0\n",
            "Summary: Text preprocessing management system.\n",
            "Home-page: https://github.com/HojiChar/HojiChar\n",
            "Author: kenta.shinzato\n",
            "Author-email: hoppiece@gmail.com\n",
            "License: Apache-2.0\n",
            "Location: /usr/local/lib/python3.10/dist-packages\n",
            "Requires: mmh3, numpy, tqdm\n",
            "Required-by: \n",
            "Requirement already satisfied: regex in /usr/local/lib/python3.10/dist-packages (2023.12.25)\n",
            "{\"text\": \"HojiCharを使用して前処理を行います。\"}\n",
            "{\"text\": \"こんにちは、これはテストデータです。\"}\n",
            "{\"text\": \"こんにちは、これはテストデータです。\"}\n",
            "{\"text\": \"ダミーテキストのサンプルです。\"}\n",
            "{\"text\": \"HojiCharを使用して前処理を行います。\"}\n",
            "{\"text\": \"こんにちは、これはテストデータです。\"}\n",
            "{\"text\": \"ダミーテキストのサンプルです。\"}\n",
            "{\"text\": \"ダミーテキストのサンプルです。\"}\n",
            "{\"text\": \"ダミーテキストのサンプルです。\"}\n",
            "{\"text\": \"HojiCharを使用して前処理を行います。\"}\n"
          ]
        }
      ],
      "source": [
        "!pip install -U hojichar==0.9.0\n",
        "!pip show hojichar\n",
        "!pip install regex\n",
        "\n",
        "# import re\n",
        "import regex as re\n",
        "import hojichar\n",
        "import json\n",
        "import random\n",
        "from multiprocessing import cpu_count\n",
        "\n",
        "# ダミーデータの生成\n",
        "num_samples = 100000\n",
        "dummy_texts = [\"こんにちは山本君、これはテストデータです。佐藤さん\", \"田中くん、ダミーテキストのサンプルです。\", \"HojiCharを使用して前処理を行います。\"]\n",
        "with open(\"your_text.jsonl\", \"w\") as f:\n",
        "    for _ in range(num_samples):\n",
        "        text = random.choice(dummy_texts)\n",
        "        f.write(json.dumps({\"text\": text}) + \"\\n\")\n",
        "\n",
        "# 敬称別漢字除去フィルター\n",
        "class RemoveKanjiBeforeHonorific(hojichar.core.filter_interface.Filter):\n",
        "    def apply(self, document):\n",
        "        text = document.text\n",
        "        # 文の先頭にある名前と敬称（と可能な句読点）を削除\n",
        "        text = re.sub(r'^\\p{Script=Han}+(?:さん|くん|君)[、。]?', '', text)\n",
        "        # 文中の名前と敬称を削除し、その後に来る可能な句読点は残す\n",
        "        text = re.sub(r'(\\P{IsHan}+)\\p{Script=Han}+(?:さん|くん|君)([、。]?)', r'\\1\\2', text)\n",
        "        document.text = text\n",
        "        return document\n",
        "\n",
        "# Composeオブジェクトの定義\n",
        "cleaner = hojichar.Compose([\n",
        "    hojichar.document_filters.JSONLoader(),\n",
        "    hojichar.document_filters.DocumentNormalizer(),\n",
        "    RemoveKanjiBeforeHonorific(),\n",
        "    hojichar.document_filters.JSONDumper(),\n",
        "])\n",
        "\n",
        "# 大量のJSON Linesファイルを並列に処理\n",
        "input_file = \"your_text.jsonl\"\n",
        "with open(input_file, 'r') as file:\n",
        "    lines = file.readlines()\n",
        "\n",
        "input_doc_iter = (hojichar.Document(line) for line in lines)\n",
        "\n",
        "num_cores = cpu_count()\n",
        "with hojichar.Parallel(cleaner, num_jobs=num_cores) as pfilter:\n",
        "    out_doc_iter = pfilter.imap_apply(input_doc_iter)\n",
        "    with open(\"your_processed_text.jsonl\", \"w\") as fp:\n",
        "        for doc in out_doc_iter:\n",
        "            fp.write(doc.text + \"\\n\")\n",
        "\n",
        "# 結果の表示\n",
        "num_display = 10\n",
        "with open(\"your_processed_text.jsonl\", \"r\") as f:\n",
        "    for i, line in enumerate(f):\n",
        "        if i >= num_display:\n",
        "            break\n",
        "        print(line.strip())"
      ]
    },
    {
      "cell_type": "markdown",
      "source": [
        "メールアドレスと電話番号も削除"
      ],
      "metadata": {
        "id": "WhgjUh3cFV6m"
      },
      "id": "WhgjUh3cFV6m"
    },
    {
      "cell_type": "code",
      "source": [
        "\n",
        "import regex  as re\n",
        "import hojichar\n",
        "import json\n",
        "import random\n",
        "from multiprocessing import cpu_count\n",
        "\n",
        "\n",
        "# ダミーデータの生成\n",
        "num_samples = 100000\n",
        "dummy_texts = [\n",
        "    \"こんにちは山本君、これはテストデータです。電話番号は09056781234です。佐藤さんのメールアドレスをご存じですか？\",\n",
        "    \"田中くんのメールアドレスはjtwmdagp@gmail.comです。\",\n",
        "    \"HojiCharを使用して前処理を行います。\",\n",
        "]\n",
        "\n",
        "with open(\"your_text.jsonl\", \"w\") as f:\n",
        "    for _ in range(num_samples):\n",
        "        text = random.choice(dummy_texts)\n",
        "        f.write(json.dumps({\"text\": text}) + \"\\n\")\n",
        "\n",
        "\n",
        "class RemoveKanjiBeforeHonorificAndPII(hojichar.core.filter_interface.Filter):\n",
        "    \"\"\"\n",
        "    「さん」や「くん」などの敬称の直前にある漢字と敬称、電話番号、メールアドレスを削除するフィルター\n",
        "\n",
        "    Args:\n",
        "        patterns (dict): 削除対象のパターン\n",
        "    \"\"\"\n",
        "\n",
        "    def __init__(self):\n",
        "        super().__init__()\n",
        "        self.patterns = {\n",
        "            \"kanji_and_honorific\": r'(?P<kanji>\\P{IsHan}+)\\p{Script=Han}+(?P<honorific>さん|くん|君)(\\p{Script=Hiragana}{1,2})?([、。]?)',\n",
        "            \"phone_number\": r'\\d{11}|\\d{3}-\\d{4}-\\d{4}',\n",
        "            \"email\": r'[a-zA-Z0-9._%+-]+@[a-zA-Z0-9.-]+\\.[a-zA-Z]{2,}',\n",
        "        }\n",
        "\n",
        "    def apply(self, document):\n",
        "        \"\"\"\n",
        "        処理対象のテキストに対して、敬称の直前の漢字と敬称、電話番号、メールアドレスを削除する処理を実行します。\n",
        "\n",
        "        Args:\n",
        "            document (hojichar.document.Document): 処理対象のドキュメント\n",
        "\n",
        "        Returns:\n",
        "            hojichar.document.Document: 処理後のドキュメント\n",
        "        \"\"\"\n",
        "        text = document.text\n",
        "\n",
        "        # 文の先頭にある名前と敬称（と可能な句読点）を削除\n",
        "        text = re.sub(r'^\\p{Script=Han}+(?:さん|くん|君)[、。]?', '', text)\n",
        "\n",
        "        # 文中の名前と敬称を削除し、その後に来る可能な句読点は残す\n",
        "        text = re.sub(r'(\\P{IsHan}+)\\p{Script=Han}+(?:さん|くん|君)([、。]?)', r'\\1\\2', text)\n",
        "\n",
        "        # 電話番号、メールアドレスを削除\n",
        "        for pattern_name, pattern in self.patterns.items():\n",
        "            text = re.sub(pattern, r'', text)\n",
        "\n",
        "        document.text = text\n",
        "        return document\n",
        "\n",
        "\n",
        "cleaner = hojichar.Compose([\n",
        "    hojichar.document_filters.JSONLoader(),\n",
        "    hojichar.document_filters.DocumentNormalizer(),\n",
        "    RemoveKanjiBeforeHonorificAndPII(),\n",
        "    hojichar.document_filters.JSONDumper(),\n",
        "])\n",
        "\n",
        "# 大量のJSON Linesファイルを並列に処理\n",
        "input_file = \"your_text.jsonl\"\n",
        "with open(input_file, 'r') as file:\n",
        "    lines = file.readlines()\n",
        "\n",
        "input_doc_iter = (hojichar.Document(line) for line in lines)\n",
        "\n",
        "num_cores = cpu_count()\n",
        "with hojichar.Parallel(cleaner, num_jobs=num_cores) as pfilter:\n",
        "    out_doc_iter = pfilter.imap_apply(input_doc_iter)\n",
        "    with open(\"your_processed_text.jsonl\", \"w\") as fp:\n",
        "        for doc in out_doc_iter:\n",
        "            fp.write(doc.text + \"\\n\")\n",
        "\n",
        "# 結果の表示\n",
        "num_display = 10\n",
        "with open(\"your_processed_text.jsonl\", \"r\") as f:\n",
        "    for i, line in enumerate(f):\n",
        "        if i >= num_display:\n",
        "            break\n",
        "        print(line.strip())"
      ],
      "metadata": {
        "colab": {
          "base_uri": "https://localhost:8080/"
        },
        "id": "wqoXbH_DEKwc",
        "outputId": "92755021-5242-46f9-dda5-8c85915e94e4"
      },
      "id": "wqoXbH_DEKwc",
      "execution_count": null,
      "outputs": [
        {
          "output_type": "stream",
          "name": "stdout",
          "text": [
            "{\"text\": \"のメールアドレスはです。\"}\n",
            "{\"text\": \"のメールアドレスはです。\"}\n",
            "{\"text\": \"HojiCharを使用して前処理を行います。\"}\n",
            "{\"text\": \"HojiCharを使用して前処理を行います。\"}\n",
            "{\"text\": \"のメールアドレスはです。\"}\n",
            "{\"text\": \"こんにちは、これはテストデータです。電話番号はです。のメールアドレスをご存じですか?\"}\n",
            "{\"text\": \"のメールアドレスはです。\"}\n",
            "{\"text\": \"こんにちは、これはテストデータです。電話番号はです。のメールアドレスをご存じですか?\"}\n",
            "{\"text\": \"こんにちは、これはテストデータです。電話番号はです。のメールアドレスをご存じですか?\"}\n",
            "{\"text\": \"こんにちは、これはテストデータです。電話番号はです。のメールアドレスをご存じですか?\"}\n"
          ]
        }
      ]
    },
    {
      "cell_type": "code",
      "source": [],
      "metadata": {
        "id": "En6-MD05Dr3s"
      },
      "id": "En6-MD05Dr3s",
      "execution_count": null,
      "outputs": []
    },
    {
      "cell_type": "code",
      "source": [],
      "metadata": {
        "id": "aQ8OoQv2Dsur"
      },
      "id": "aQ8OoQv2Dsur",
      "execution_count": null,
      "outputs": []
    }
  ],
  "metadata": {
    "kernelspec": {
      "display_name": "Python 3",
      "language": "python",
      "name": "python3"
    },
    "language_info": {
      "codemirror_mode": {
        "name": "ipython",
        "version": 3
      },
      "file_extension": ".py",
      "mimetype": "text/x-python",
      "name": "python",
      "nbconvert_exporter": "python",
      "pygments_lexer": "ipython3",
      "version": "3.8.8"
    },
    "colab": {
      "provenance": [],
      "include_colab_link": true
    }
  },
  "nbformat": 4,
  "nbformat_minor": 5
}