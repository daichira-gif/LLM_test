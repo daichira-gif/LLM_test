{
  "nbformat": 4,
  "nbformat_minor": 0,
  "metadata": {
    "colab": {
      "provenance": [],
      "authorship_tag": "ABX9TyNpkfS11r8eWLC27kga3J/b",
      "include_colab_link": true
    },
    "kernelspec": {
      "name": "python3",
      "display_name": "Python 3"
    },
    "language_info": {
      "name": "python"
    }
  },
  "cells": [
    {
      "cell_type": "markdown",
      "metadata": {
        "id": "view-in-github",
        "colab_type": "text"
      },
      "source": [
        "<a href=\"https://colab.research.google.com/github/daichira-gif/daichira/blob/main/%E5%9B%BD%E4%BC%9A%E8%AD%B0%E4%BA%8B%E9%8C%B2%E3%83%80%E3%82%A6%E3%83%B3%E3%83%AD%E3%83%BC%E3%83%89ver_2_0_1%EF%BC%88%E5%B9%B4%E3%81%94%E3%81%A8%E6%8A%BD%E5%87%BA%EF%BC%89.ipynb\" target=\"_parent\"><img src=\"https://colab.research.google.com/assets/colab-badge.svg\" alt=\"Open In Colab\"/></a>"
      ]
    },
    {
      "cell_type": "code",
      "execution_count": 1,
      "metadata": {
        "colab": {
          "base_uri": "https://localhost:8080/"
        },
        "id": "0Es61wjPSejb",
        "outputId": "65333026-ac31-4dc4-f260-1243bfd357c6"
      },
      "outputs": [
        {
          "output_type": "stream",
          "name": "stdout",
          "text": [
            "Requirement already satisfied: beautifulsoup4 in /usr/local/lib/python3.10/dist-packages (4.12.3)\n",
            "Requirement already satisfied: soupsieve>1.2 in /usr/local/lib/python3.10/dist-packages (from beautifulsoup4) (2.5)\n"
          ]
        }
      ],
      "source": [
        "!pip install beautifulsoup4"
      ]
    },
    {
      "cell_type": "code",
      "source": [
        "!pip install requests"
      ],
      "metadata": {
        "colab": {
          "base_uri": "https://localhost:8080/"
        },
        "id": "OYgvQqZ51gCt",
        "outputId": "78b54ea6-2a24-4659-8eb5-83e8dea7a442"
      },
      "execution_count": 2,
      "outputs": [
        {
          "output_type": "stream",
          "name": "stdout",
          "text": [
            "Requirement already satisfied: requests in /usr/local/lib/python3.10/dist-packages (2.31.0)\n",
            "Requirement already satisfied: charset-normalizer<4,>=2 in /usr/local/lib/python3.10/dist-packages (from requests) (3.3.2)\n",
            "Requirement already satisfied: idna<4,>=2.5 in /usr/local/lib/python3.10/dist-packages (from requests) (3.6)\n",
            "Requirement already satisfied: urllib3<3,>=1.21.1 in /usr/local/lib/python3.10/dist-packages (from requests) (2.0.7)\n",
            "Requirement already satisfied: certifi>=2017.4.17 in /usr/local/lib/python3.10/dist-packages (from requests) (2024.2.2)\n"
          ]
        }
      ]
    },
    {
      "cell_type": "markdown",
      "source": [
        "## 議事録の著作権について\n",
        "\n",
        "- 電子計算機による情報解析については、著作権法の定めに従い、著作権者の許諾を得ることなく利用可能\n",
        "- ソース https://kokkai.ndl.go.jp/help.html#:~:text=%E5%80%8B%E3%80%85%E3%81%AE%E7%99%BA%E8%A8%80%E3%81%AE%E3%81%86%E3%81%A1,%E8%A8%B1%E8%AB%BE%E3%81%8C%E5%BF%85%E8%A6%81%E3%81%A8%E3%81%AA%E3%82%8A%E3%81%BE%E3%81%99%E3%80%82\n",
        "\n",
        "### 参考URL\n",
        "https://qiita.com/8_hisakichi_8/items/d6894803d2ebabf3d33b\n"
      ],
      "metadata": {
        "id": "tqIFcBE4SjM-"
      }
    },
    {
      "cell_type": "markdown",
      "source": [
        "## 国会図書館APIから議事録を抽出"
      ],
      "metadata": {
        "id": "QGX6Mn8djaXy"
      }
    },
    {
      "cell_type": "markdown",
      "source": [
        "議事録APIのパラメータ<br>\n",
        "https://kokkai.ndl.go.jp/api.html#specification"
      ],
      "metadata": {
        "id": "pATaF2_ILS2f"
      }
    },
    {
      "cell_type": "markdown",
      "source": [
        "## 年別に抽出,JSON形式版"
      ],
      "metadata": {
        "id": "WwofOCNaUGrK"
      }
    },
    {
      "cell_type": "code",
      "source": [
        "from google.colab import files\n",
        "\n",
        "from google.colab import drive\n",
        "drive.mount('/content/drive')\n",
        "\n",
        "# 保存用ディレクトリの指定\n",
        "submit_dir = \"/content/drive/MyDrive/gijiroku/\""
      ],
      "metadata": {
        "colab": {
          "base_uri": "https://localhost:8080/"
        },
        "id": "6Pma_vcKfx7t",
        "outputId": "cb5ba29f-41a7-4e31-d729-18314614e940"
      },
      "execution_count": 3,
      "outputs": [
        {
          "output_type": "stream",
          "name": "stdout",
          "text": [
            "Mounted at /content/drive\n"
          ]
        }
      ]
    },
    {
      "cell_type": "code",
      "source": [
        "import json\n",
        "import time\n",
        "from urllib.request import urlopen, Request\n",
        "from urllib.parse import quote\n",
        "from urllib.error import URLError, HTTPError\n",
        "import xml.etree.ElementTree as ET\n",
        "import locale\n",
        "locale.setlocale(locale.LC_ALL, 'en_US.UTF-8')\n",
        "import os\n",
        "from datetime import datetime, timedelta\n",
        "import re\n",
        "\n",
        "def create_query( nameOfHouse, session_date):\n",
        "    params = {\n",
        "#        'nameOfMeeting': meeting_name,\n",
        "        'maximumRecords': 10,\n",
        "        'nameOfHouse': nameOfHouse,\n",
        "#        \"sessionFrom\": session,\n",
        "#        \"sessionTo\": session,\n",
        "#        \"issueFrom\": issue,\n",
        "#        \"issueTo\": issue,\n",
        "        \"from\": session_date,\n",
        "        \"until\": session_date,\n",
        "    }\n",
        "    return '&'.join(['{}={}'.format(key, value) for key, value in params.items()])\n",
        "\n",
        "def parse_xml(res_xml):\n",
        "    root = ET.fromstring(res_xml)\n",
        "    speech_list = []\n",
        "    try:\n",
        "        for record in root.findall('./records/record/recordData/meetingRecord'):\n",
        "            session = record.find('session').text\n",
        "            nameOfMeeting = record.find('nameOfMeeting').text\n",
        "            issue = record.find('issue').text\n",
        "            date = record.find('date').text\n",
        "            print(nameOfMeeting, issue, date)\n",
        "            i = 1\n",
        "            chairman = None\n",
        "            for speechRecord in record.findall('speechRecord'):\n",
        "                speaker_group = speechRecord.find(\"speakerGroup\").text\n",
        "                speaker = speechRecord.find('speaker').text\n",
        "                contents = speechRecord.find('speech').text\n",
        "                if not any([speaker is None, speaker_group is None]):\n",
        "                    sep = \"　\"\n",
        "                    contents = sep.join(contents.split(sep)[1:])\n",
        "                    # Remove the strings that match the pattern '午前●●分散会' and '午後●●分散会'\n",
        "                    contents = re.sub(r'午[前後].*分散会', '', contents)\n",
        "                    speech = {}\n",
        "                    speech[\"発言No.\"] = i\n",
        "                    speech[\"発言者\"] = speaker\n",
        "                    speech[\"発言内容\"] = contents.replace('\\n', '').replace('-', '') .replace('◇', '') .replace('君　　　', '君、')   # Remove newline characters and other\n",
        "                    speech[\"国会会期\"] = session\n",
        "                    speech[\"会議名\"] = nameOfMeeting\n",
        "                    speech[\"会議号\"] = issue\n",
        "                    speech[\"会議日付\"] = date\n",
        "                    speech_list.append(speech)\n",
        "                    i += 1\n",
        "    except ET.ParseError as e:\n",
        "        print('ParseError: {}'.format(e.code))\n",
        "    return speech_list\n",
        "\n",
        "def process_speech_list(speech_list):\n",
        "    # 発言者ごとに発言内容をまとめて表示\n",
        "    for speech in speech_list:\n",
        "        print(f\"発言No.: {speech['発言No.']}\")\n",
        "        print(f\"発言者: {speech['発言者']}\")\n",
        "        print(f\"発言内容: {speech['発言内容']}\")\n",
        "        print(\"-\" * 30)\n",
        "\n",
        "def main():\n",
        "\n",
        "    nameOfHouse = '衆議院'\n",
        "#    nameOfHouse = '参議院'\n",
        "#    nameOfHouse = '両院協議会'\n",
        "\n",
        "    # 取得した国会発言をmain外で色々処理をするためグローバル変数で宣言\n",
        "    global minutes\n",
        "\n",
        "    # Define the start and end years\n",
        "    start_year = 2024\n",
        "    end_year = 2024\n",
        "\n",
        "    # Loop over each year\n",
        "    for year in range(start_year, end_year + 1):\n",
        "        # Define the start and end dates for the current year\n",
        "        start_date = datetime(year, 1, 1)\n",
        "        end_date = datetime(year, 12, 31)\n",
        "\n",
        "        # Calculate the number of days in the current year\n",
        "        num_days = (end_date - start_date).days + 1\n",
        "\n",
        "        # Initialize the minutes list for the current year\n",
        "        minutes = []\n",
        "\n",
        "        # Loop over each day in the current year\n",
        "        for i in range(num_days):\n",
        "            # Calculate the current session date\n",
        "            session_date = start_date + timedelta(days=i)\n",
        "\n",
        "            while True:\n",
        "                query = create_query( nameOfHouse, session_date)\n",
        "\n",
        "                # ここでAPIリクエストを送信して議事録を取得する処理を実装する\n",
        "                # クエリはパーセントエンコードしておく\n",
        "                request_url = 'http://kokkai.ndl.go.jp/api/1.0/meeting?' + quote(create_query( nameOfHouse= nameOfHouse, session_date=session_date.strftime('%Y-%m-%d')))\n",
        " #               print(request_url)\n",
        "                req = Request(request_url)\n",
        "                try:\n",
        "                    # リクエストクエリのURLからオブジェクト（今回はXML）を取得しutf8にデコード\n",
        "                    with urlopen(req) as res:\n",
        "                        res_xml = res.read().decode('utf8')\n",
        "\n",
        "                except HTTPError as e:\n",
        "                    print('HTTPError: {}'.format(e.reason))\n",
        "                    break\n",
        "                except URLError as e:\n",
        "                    print('URLError: {}'.format(e.reason))\n",
        "                    break\n",
        "\n",
        "                # try正常終了時の処理記述\n",
        "                else:\n",
        "                    # 取得したxmlを国会発言として扱いやすい形（辞書のリスト）に変換\n",
        "                    minutes_issue = parse_xml(res_xml)\n",
        "\n",
        "                    # レスポンスが無い場合にループを抜け出す\n",
        "                    if not minutes_issue:\n",
        "                        break\n",
        "                    else:\n",
        "                      # 取得したminutesをリストに追加\n",
        "                      minutes.extend(minutes_issue)\n",
        "\n",
        "                      # ここでminutesを適切に処理する\n",
        "        #              process_speech_list(minutes_issue)\n",
        "\n",
        "                      time.sleep(3)  # インターバルを3秒に設定\n",
        "                      break\n",
        "        # ループが終了したら、全てのminutesをJSONLファイルに書き出す\n",
        "        file_name = f\"{nameOfHouse}_{year}.jsonl\"\n",
        "        with open(os.path.join(submit_dir, file_name), \"a\") as jsonl_file:\n",
        "            for minute in minutes:\n",
        "                json.dump(minute, jsonl_file, ensure_ascii=False)\n",
        "                jsonl_file.write('\\n')\n",
        "\n",
        "# - - - - - - - - - - - - - - - - - -\n",
        "if __name__ == '__main__':\n",
        "    main()\n"
      ],
      "metadata": {
        "colab": {
          "base_uri": "https://localhost:8080/"
        },
        "id": "3bGFULDua7C0",
        "outputId": "fa167799-6998-4f28-8b38-0afb7ac91865"
      },
      "execution_count": null,
      "outputs": [
        {
          "output_type": "stream",
          "name": "stdout",
          "text": [
            "議院運営委員会 第14号 2024-01-24\n",
            "議院運営委員会庶務小委員会 第1号 2024-01-24\n",
            "議院運営委員会図書館運営小委員会 第1号 2024-01-24\n",
            "本会議 第1号 2024-01-26\n",
            "沖縄及び北方問題に関する特別委員会 第1号 2024-01-26\n",
            "北朝鮮による拉致問題等に関する特別委員会 第1号 2024-01-26\n",
            "議院運営委員会 第1号 2024-01-26\n",
            "原子力問題調査特別委員会 第1号 2024-01-26\n",
            "災害対策特別委員会 第1号 2024-01-26\n",
            "消費者問題に関する特別委員会 第1号 2024-01-26\n",
            "情報監視審査会 第1号 2024-01-26\n",
            "政治倫理の確立及び公職選挙法改正に関する特別委員会 第1号 2024-01-26\n",
            "地域活性化・こども政策・デジタル社会形成に関する特別委員会 第1号 2024-01-26\n",
            "議院運営委員会 第2号 2024-01-30\n",
            "議院運営委員会 第3号 2024-01-31\n",
            "議院運営委員会 第4号 2024-02-01\n",
            "懲罰委員会 第1号 2024-02-01\n",
            "財務金融委員会 第1号 2024-02-13\n",
            "総務委員会 第1号 2024-02-13\n",
            "内閣委員会 第1号 2024-02-14\n",
            "財務金融委員会 第2号 2024-02-16\n",
            "内閣委員会 第2号 2024-02-16\n",
            "財務金融委員会 第3号 2024-02-20\n",
            "財務金融委員会 第4号 2024-02-27\n"
          ]
        }
      ]
    },
    {
      "cell_type": "markdown",
      "source": [
        "### 以下、ボツコード"
      ],
      "metadata": {
        "id": "_mRBp_yqQ2qB"
      }
    }
  ]
}